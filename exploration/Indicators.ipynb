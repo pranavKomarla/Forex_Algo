{
 "cells": [
  {
   "cell_type": "code",
   "execution_count": 1,
   "id": "dae82e64",
   "metadata": {},
   "outputs": [],
   "source": [
    "import sys\n",
    "sys.path.append('../')\n",
    "from plotting import CandlePlot\n",
    "import pandas as pd"
   ]
  },
  {
   "cell_type": "code",
   "execution_count": 2,
   "id": "56cdab80",
   "metadata": {},
   "outputs": [],
   "source": [
    "from technicals.indicators import BollingerBands, ATR, KeltnerChannels, RSI, MACD"
   ]
  },
  {
   "cell_type": "code",
   "execution_count": 3,
   "id": "beef41a3",
   "metadata": {},
   "outputs": [],
   "source": [
    "df = pd.read_pickle(\"../data/AUD_CAD_H1.pkl\")"
   ]
  },
  {
   "cell_type": "code",
   "execution_count": 4,
   "id": "4bf91b0c",
   "metadata": {},
   "outputs": [],
   "source": [
    "df_an = df.copy()"
   ]
  },
  {
   "cell_type": "code",
   "execution_count": 5,
   "id": "4cbda831",
   "metadata": {},
   "outputs": [],
   "source": [
    "df_an = MACD(df_an)"
   ]
  },
  {
   "cell_type": "code",
   "execution_count": 6,
   "id": "92f180aa",
   "metadata": {},
   "outputs": [
    {
     "data": {
      "text/html": [
       "<div>\n",
       "<style scoped>\n",
       "    .dataframe tbody tr th:only-of-type {\n",
       "        vertical-align: middle;\n",
       "    }\n",
       "\n",
       "    .dataframe tbody tr th {\n",
       "        vertical-align: top;\n",
       "    }\n",
       "\n",
       "    .dataframe thead th {\n",
       "        text-align: right;\n",
       "    }\n",
       "</style>\n",
       "<table border=\"1\" class=\"dataframe\">\n",
       "  <thead>\n",
       "    <tr style=\"text-align: right;\">\n",
       "      <th></th>\n",
       "      <th>time</th>\n",
       "      <th>volume</th>\n",
       "      <th>mid_o</th>\n",
       "      <th>mid_h</th>\n",
       "      <th>mid_l</th>\n",
       "      <th>mid_c</th>\n",
       "      <th>bid_o</th>\n",
       "      <th>bid_h</th>\n",
       "      <th>bid_l</th>\n",
       "      <th>bid_c</th>\n",
       "      <th>ask_o</th>\n",
       "      <th>ask_h</th>\n",
       "      <th>ask_l</th>\n",
       "      <th>ask_c</th>\n",
       "      <th>MACD</th>\n",
       "      <th>SIGNAL</th>\n",
       "      <th>HIST</th>\n",
       "    </tr>\n",
       "  </thead>\n",
       "  <tbody>\n",
       "    <tr>\n",
       "      <th>3995</th>\n",
       "      <td>2022-01-25 03:00:00+00:00</td>\n",
       "      <td>2482</td>\n",
       "      <td>0.90332</td>\n",
       "      <td>0.90340</td>\n",
       "      <td>0.90278</td>\n",
       "      <td>0.90336</td>\n",
       "      <td>0.90324</td>\n",
       "      <td>0.90332</td>\n",
       "      <td>0.90269</td>\n",
       "      <td>0.90328</td>\n",
       "      <td>0.90339</td>\n",
       "      <td>0.90348</td>\n",
       "      <td>0.90287</td>\n",
       "      <td>0.90344</td>\n",
       "      <td>0.000632</td>\n",
       "      <td>0.000295</td>\n",
       "      <td>0.000337</td>\n",
       "    </tr>\n",
       "    <tr>\n",
       "      <th>3996</th>\n",
       "      <td>2022-01-25 04:00:00+00:00</td>\n",
       "      <td>1280</td>\n",
       "      <td>0.90337</td>\n",
       "      <td>0.90352</td>\n",
       "      <td>0.90232</td>\n",
       "      <td>0.90250</td>\n",
       "      <td>0.90328</td>\n",
       "      <td>0.90344</td>\n",
       "      <td>0.90225</td>\n",
       "      <td>0.90243</td>\n",
       "      <td>0.90346</td>\n",
       "      <td>0.90361</td>\n",
       "      <td>0.90240</td>\n",
       "      <td>0.90258</td>\n",
       "      <td>0.000568</td>\n",
       "      <td>0.000349</td>\n",
       "      <td>0.000219</td>\n",
       "    </tr>\n",
       "    <tr>\n",
       "      <th>3997</th>\n",
       "      <td>2022-01-25 05:00:00+00:00</td>\n",
       "      <td>1831</td>\n",
       "      <td>0.90250</td>\n",
       "      <td>0.90302</td>\n",
       "      <td>0.90234</td>\n",
       "      <td>0.90274</td>\n",
       "      <td>0.90242</td>\n",
       "      <td>0.90294</td>\n",
       "      <td>0.90225</td>\n",
       "      <td>0.90267</td>\n",
       "      <td>0.90259</td>\n",
       "      <td>0.90310</td>\n",
       "      <td>0.90241</td>\n",
       "      <td>0.90282</td>\n",
       "      <td>0.000531</td>\n",
       "      <td>0.000386</td>\n",
       "      <td>0.000145</td>\n",
       "    </tr>\n",
       "    <tr>\n",
       "      <th>3998</th>\n",
       "      <td>2022-01-25 06:00:00+00:00</td>\n",
       "      <td>1847</td>\n",
       "      <td>0.90274</td>\n",
       "      <td>0.90277</td>\n",
       "      <td>0.90208</td>\n",
       "      <td>0.90225</td>\n",
       "      <td>0.90266</td>\n",
       "      <td>0.90269</td>\n",
       "      <td>0.90201</td>\n",
       "      <td>0.90217</td>\n",
       "      <td>0.90283</td>\n",
       "      <td>0.90285</td>\n",
       "      <td>0.90216</td>\n",
       "      <td>0.90233</td>\n",
       "      <td>0.000457</td>\n",
       "      <td>0.000400</td>\n",
       "      <td>0.000057</td>\n",
       "    </tr>\n",
       "    <tr>\n",
       "      <th>3999</th>\n",
       "      <td>2022-01-25 07:00:00+00:00</td>\n",
       "      <td>3670</td>\n",
       "      <td>0.90228</td>\n",
       "      <td>0.90274</td>\n",
       "      <td>0.90186</td>\n",
       "      <td>0.90268</td>\n",
       "      <td>0.90220</td>\n",
       "      <td>0.90266</td>\n",
       "      <td>0.90179</td>\n",
       "      <td>0.90260</td>\n",
       "      <td>0.90237</td>\n",
       "      <td>0.90281</td>\n",
       "      <td>0.90194</td>\n",
       "      <td>0.90275</td>\n",
       "      <td>0.000427</td>\n",
       "      <td>0.000405</td>\n",
       "      <td>0.000022</td>\n",
       "    </tr>\n",
       "  </tbody>\n",
       "</table>\n",
       "</div>"
      ],
      "text/plain": [
       "                          time  volume    mid_o    mid_h    mid_l    mid_c  \\\n",
       "3995 2022-01-25 03:00:00+00:00    2482  0.90332  0.90340  0.90278  0.90336   \n",
       "3996 2022-01-25 04:00:00+00:00    1280  0.90337  0.90352  0.90232  0.90250   \n",
       "3997 2022-01-25 05:00:00+00:00    1831  0.90250  0.90302  0.90234  0.90274   \n",
       "3998 2022-01-25 06:00:00+00:00    1847  0.90274  0.90277  0.90208  0.90225   \n",
       "3999 2022-01-25 07:00:00+00:00    3670  0.90228  0.90274  0.90186  0.90268   \n",
       "\n",
       "        bid_o    bid_h    bid_l    bid_c    ask_o    ask_h    ask_l    ask_c  \\\n",
       "3995  0.90324  0.90332  0.90269  0.90328  0.90339  0.90348  0.90287  0.90344   \n",
       "3996  0.90328  0.90344  0.90225  0.90243  0.90346  0.90361  0.90240  0.90258   \n",
       "3997  0.90242  0.90294  0.90225  0.90267  0.90259  0.90310  0.90241  0.90282   \n",
       "3998  0.90266  0.90269  0.90201  0.90217  0.90283  0.90285  0.90216  0.90233   \n",
       "3999  0.90220  0.90266  0.90179  0.90260  0.90237  0.90281  0.90194  0.90275   \n",
       "\n",
       "          MACD    SIGNAL      HIST  \n",
       "3995  0.000632  0.000295  0.000337  \n",
       "3996  0.000568  0.000349  0.000219  \n",
       "3997  0.000531  0.000386  0.000145  \n",
       "3998  0.000457  0.000400  0.000057  \n",
       "3999  0.000427  0.000405  0.000022  "
      ]
     },
     "execution_count": 6,
     "metadata": {},
     "output_type": "execute_result"
    }
   ],
   "source": [
    "df_an.tail()"
   ]
  },
  {
   "cell_type": "code",
   "execution_count": 7,
   "id": "f5b7225d",
   "metadata": {},
   "outputs": [
    {
     "data": {
      "application/vnd.plotly.v1+json": {
       "config": {
        "plotlyServerURL": "https://plot.ly"
       },
       "data": [
        {
         "close": {
          "bdata": "xoUDIVnA7D+jHqLRHcTsPz+p9ul4zOw/ajANw0fE7D+p3hrYKsHsP0/pYP2fw+w/e/fHe9XK7D/t0/GYgcrsP11Q3zKny+w/KXl1jgHZ7D+0k8FR8ursP7Ezhc5r7Ow/uVM6WP/n7D+GVbyReeTsP01nJ4Oj5Ow/q+y7Ivjf7D9zLsVVZd/sP2+e6pCb4ew/PKBsyhXe7D8yIHu9++PsP6RTVz7L8+w/88gfDDz37D+lg/V/DvPsP5EsYAK37uw/AwmKH2Pu7D8YCW05l+LsP4UlHlA25ew/fQVpxqLp7D/p8Xub/uzsP4UlHlA25ew/HlA25Qrv7D8c8PlhhPDsPxzw+WGE8Ow/66hqgqj77D+oOuRmuAHtPyI3ww34/Ow/t3pOet/47D/76NSVz/LsP19egH106uw/EOm3rwPn7D/P2m0XmuvsP3qlLEMc6+w/SKeufJbn7D9ZF7fRAN7sP9szSwLU1Ow/KEnXTL7Z7D+dhT3t8NfsP4XOa+wS1ew/+zpwzojS7D9uF5rrNNLsP9/DJced0uw/o3VUNUHU7D9uF5rrNNLsP1UwKqkT0Ow/LQlQU8vW7D/52jNLAtTsPzGZKhiV1Ow/M1AZ/z7j7D+r7Lsi+N/sPx3J5T+k3+w/TDeJQWDl7D/9wcBz7+HsP98a2CrB4uw/Vrd6Tnrf7D+FJR5QNuXsPxWpMLYQ5Ow/b57qkJvh7D9q3nGKjuTsP4wVNZiG4ew//yH99nXg7D9ZF7fRAN7sP1x381SH3Ow/1EM0uoPY7D/jUwCMZ9DsP8WsF0M50ew/3pOHhVrT7D+kpfJ2hNPsP0hQ/Bhz1+w/t0WZDTLJ7D/XTL7Z5sbsP4V3uYjvxOw/E5uPa0PF7D+LNzKP/MHsPwNbJVgczuw/aVch5SfV7D+6LCY2H9fsPy9pjNZR1ew/C9KMRdPZ7D9sPq4NFePsP1H3AUht4uw/wXPv4ZLj7D9Ip658lufsP4ts5/up8ew/deWzPA/u7D+5UzpY/+fsP0d3EDtT6Ow/4XoUrkfh7D8zUBn/PuPsP6wcWmQ73+w/3xrYKsHi7D8=",
          "dtype": "f8"
         },
         "decreasing": {
          "fillcolor": "#CC2E3C",
          "line": {
           "color": "#FF3A4C"
          }
         },
         "high": {
          "bdata": "MUJ4tHHE7D8xQni0ccTsPwWLw5lfzew/ryXkg57N7D/V7IFWYMjsP2jQ0D/Bxew/XVDfMqfL7D9dUN8yp8vsPx+i0R3Ezuw/0xOWeEDZ7D9wJTs2AvHsP8aKGkzD8Ow/k4ychT3t7D+AZaVJKejsP54MjpJX5+w/9wFIbeLk7D+lLEMc6+LsPxgJbTmX4uw//yH99nXg7D/X+iKhLefsP6MjufyH9Ow/FVeVfVcE7T9kdavnpPfsPxTQRNjw9Ow/jswjfzDw7D85l+Kqsu/sPy6QoPgx5uw/deWzPA/u7D8AqU2c3O/sPyGwcmiR7ew//kgRGVbx7D8ZkL3e/fHsP2tlwi/18+w/44i1+BQA7T/DgZAsYALtP/LvMy4cCO0/bkxPWOIB7T+vWpnwS/3sPzOny2Ji8+w/Xf5D+u3r7D8jEK/rF+zsPx5QNuUK7+w/OZfiqrLv7D/SOqqaIOrsP/7xXrUy4ew/7lpCPujZ7D8IclDCTNvsP52FPe3w1+w/9nr3x3vV7D9qh78ma9TsP7osJjYf1+w/2zNLAtTU7D+BPpEnSdfsP2lXIeUn1ew/D2JnCp3X7D+6LCY2H9fsP4SezarP1ew/9wFIbeLk7D9J10y+2ebsPzDw3Hu45Ow/2VpfJLTl7D9MN4lBYOXsP06XxcTm4+w/SKeufJbn7D9KB+v/HObsPxDpt68D5+w/TDeJQWDl7D99BWnGounsP4BlpUkp6Ow/9wFIbeLk7D9Ol8XE5uPsP6vsuyL43+w/PtAKDFnd7D+1bK0vEtrsP4XOa+wS1ew/9nr3x3vV7D+4zOmymNjsP3ke3J212+w/RyBe1y/Y7D9a8KKvIM3sP83MzMzMzOw/m/7sR4rI7D+8BRIUP8bsPzUpBd1e0uw/7lpCPujZ7D8oSddMvtnsP3e+nxov3ew/CqLuA5Da7D8zUBn/PuPsP9laXyS05ew/TDeJQWDl7D/P2m0XmuvsP3ZsBOJ1/ew/iQyreCPz7D+scwzIXu/sP9Sa5h2n6Ow/fQVpxqLp7D8TSfQyiuXsP93qOel94+w/M1AZ/z7j7D8=",
          "dtype": "f8"
         },
         "increasing": {
          "fillcolor": "#24A06B",
          "line": {
           "color": "#2EC886"
          }
         },
         "line": {
          "width": 1
         },
         "low": {
          "bdata": "dbD+z2G+7D9XCRaHM7/sP22QSUbOwuw/3Qw34PPD7D8ge737473sP5NX5xiQvew/32xzY3rC7D8sgv+tZMfsP9dMvtnmxuw/DtsWZTbI7D/Wc9L7xtfsP6BsyhXe5ew/M1AZ/z7j7D9vnuqQm+HsP4rlllZD4uw/yZOkaybf7D8HQrKACdzsP3e+nxov3ew/XwfOGVHa7D8/AKlNnNzsPzSAt0CC4uw/yOpWz0nv7D9zhXe5iO/sP5Jc/kP67ew/eXWOAdnr7D//If32deDsP4rlllZD4uw/bD6uDRXj7D/UmuYdp+jsP6KcaFch5ew/at5xio7k7D+28/3UeOnsPwVpxqLp7Ow/P1dbsb/s7D9jRQ2mYfjsPwlQU8vW+uw/8WjjiLX47D/EWnwKgPHsP19egH106uw/gsXhzK/m7D+lLEMc6+LsPxDpt68D5+w/gsXhzK/m7D/uWkI+6NnsP6cFL/oK0uw/Afvo1JXP7D+H/gkuVtTsP8gMVMa/z+w/Brth26LM7D+Rfvs6cM7sPwH76NSVz+w/rMWnABjP7D92N091yM3sP+gTeZJ0zew/Afvo1JXP7D/7OnDOiNLsPz1Jumbyzew/xawXQznR7D/qymd5HtzsPyqpE9BE2Ow/6ZrJN9vc7D8E4nX9gt3sP3L+JhQi4Ow/6ZrJN9vc7D/L8+DurN3sP6wcWmQ73+w/5NpQMc7f7D+pvB3htODsPztwzojS3uw/y/Pg7qzd7D9aR1UTRN3sP5n1Yign2uw/1nPS+8bX7D/PLAlQU8vsP88sCVBTy+w/OxkcJa/O7D9VMCqpE9DsP4qO5PIf0uw/iQeUTbnC7D8u4jsx68XsP6MeotEdxOw/qd4a2CrB7D8IlE25wrvsPxu7RPXWwOw/lj50QX3L7D/7OnDOiNLsPy9pjNZR1ew/h/4JLlbU7D/TE5Z4QNnsP7CsNCkF3ew/O3DOiNLe7D82sFWCxeHsPxgJbTmX4uw/CMkCJnDr7D+5UzpY/+fsP8Fz7+GS4+w/5NpQMc7f7D+r7Lsi+N/sP5IFTODW3ew/B0KygAnc7D8=",
          "dtype": "f8"
         },
         "opacity": 1,
         "open": {
          "bdata": "4/xNKETA7D/j/E0oRMDsPzFCeLRxxOw/6UMX1LfM7D9OucK7XMTsP+LMr+YAwew/MnIW9rTD7D/t0/GYgcrsP7TlXIqryuw/JGJKJNHL7D9F8L+V7NjsP3qlLEMc6+w/BWnGouns7D8rMGR1q+fsP2recYqO5Ow/9wFIbeLk7D84EJIFTODsP1a3ek563+w/Vrd6Tnrf7D/oaiv2l93sP/kx5q4l5Ow/pFNXPsvz7D/zyB8MPPfsP8L6P4f58uw/kSxgArfu7D8DCYofY+7sP4rlllZD4uw/opxoVyHl7D9hjh6/t+nsPz9XW7G/7Ow/9wFIbeLk7D87x4Ds9e7sP+IBZVOu8Ow/Vd6OcFrw7D8kl/+QfvvsP6g65Ga4Ae0/r1qZ8Ev97D+3ek563/jsP23F/rJ78uw/7YFWYMjq7D/zcW2oGOfsP5bs2AjE6+w/tcNfkzXq7D/X+iKhLefsP+c6jbRU3uw/2zNLAtTU7D+3nEtxVdnsP7n8h/Tb1+w/okW28/3U7D81KQXdXtLsPzUpBd1e0uw/NSkF3V7S7D9NEHUfgNTsP/s6cM6I0uw/jh6/t+nP7D+f5Xlwd9bsP2u3XWiu0+w/FCLgEKrU7D+lLEMc6+LsP+TaUDHO3+w/q+y7Ivjf7D++E7NeDOXsP2+e6pCb4ew/UfcBSG3i7D8dyeU/pN/sP4UlHlA25ew/jBU1mIbh7D+lLEMc6+LsP2recYqO5Ow/4XoUrkfh7D84EJIFTODsPyApIsMq3uw/6ZrJN9vc7D+4zOmymNjsP+NTAIxn0Ow/xawXQznR7D8XghyUMNPsP6Sl8naE0+w/1nPS+8bX7D9+VwT/W8nsP9dMvtnmxuw/+FPjpZvE7D8wEtpyLsXsP/0TXKyowew/PUm6ZvLN7D/bM0sC1NTsPy0JUFPL1uw/okW28/3U7D9hN2xblNnsPxgJbTmX4uw/xjNo6J/g7D9Qx2MGKuPsP9XKhF/q5+w/xFp8CoDx7D915bM8D+7sP7lTOlj/5+w/KgDGM2jo7D/hehSuR+HsPzNQGf8+4+w/Vrd6Tnrf7D8=",
          "dtype": "f8"
         },
         "type": "candlestick",
         "x": [
          "s22-01-19 04:00",
          "s22-01-19 05:00",
          "s22-01-19 06:00",
          "s22-01-19 07:00",
          "s22-01-19 08:00",
          "s22-01-19 09:00",
          "s22-01-19 10:00",
          "s22-01-19 11:00",
          "s22-01-19 12:00",
          "s22-01-19 13:00",
          "s22-01-19 14:00",
          "s22-01-19 15:00",
          "s22-01-19 16:00",
          "s22-01-19 17:00",
          "s22-01-19 18:00",
          "s22-01-19 19:00",
          "s22-01-19 20:00",
          "s22-01-19 21:00",
          "s22-01-19 22:00",
          "s22-01-19 23:00",
          "s22-01-20 00:00",
          "s22-01-20 01:00",
          "s22-01-20 02:00",
          "s22-01-20 03:00",
          "s22-01-20 04:00",
          "s22-01-20 05:00",
          "s22-01-20 06:00",
          "s22-01-20 07:00",
          "s22-01-20 08:00",
          "s22-01-20 09:00",
          "s22-01-20 10:00",
          "s22-01-20 11:00",
          "s22-01-20 12:00",
          "s22-01-20 13:00",
          "s22-01-20 14:00",
          "s22-01-20 15:00",
          "s22-01-20 16:00",
          "s22-01-20 17:00",
          "s22-01-20 18:00",
          "s22-01-20 19:00",
          "s22-01-20 20:00",
          "s22-01-20 21:00",
          "s22-01-20 22:00",
          "s22-01-20 23:00",
          "s22-01-21 00:00",
          "s22-01-21 01:00",
          "s22-01-21 02:00",
          "s22-01-21 03:00",
          "s22-01-21 04:00",
          "s22-01-21 05:00",
          "s22-01-21 06:00",
          "s22-01-21 07:00",
          "s22-01-21 08:00",
          "s22-01-21 09:00",
          "s22-01-21 10:00",
          "s22-01-21 11:00",
          "s22-01-21 12:00",
          "s22-01-21 13:00",
          "s22-01-21 14:00",
          "s22-01-21 15:00",
          "s22-01-21 16:00",
          "s22-01-21 17:00",
          "s22-01-21 18:00",
          "s22-01-21 19:00",
          "s22-01-21 20:00",
          "s22-01-21 21:00",
          "s22-01-23 22:00",
          "s22-01-23 23:00",
          "s22-01-24 00:00",
          "s22-01-24 01:00",
          "s22-01-24 02:00",
          "s22-01-24 03:00",
          "s22-01-24 04:00",
          "s22-01-24 05:00",
          "s22-01-24 06:00",
          "s22-01-24 07:00",
          "s22-01-24 08:00",
          "s22-01-24 09:00",
          "s22-01-24 10:00",
          "s22-01-24 11:00",
          "s22-01-24 12:00",
          "s22-01-24 13:00",
          "s22-01-24 14:00",
          "s22-01-24 15:00",
          "s22-01-24 16:00",
          "s22-01-24 17:00",
          "s22-01-24 18:00",
          "s22-01-24 19:00",
          "s22-01-24 20:00",
          "s22-01-24 21:00",
          "s22-01-24 22:00",
          "s22-01-24 23:00",
          "s22-01-25 00:00",
          "s22-01-25 01:00",
          "s22-01-25 02:00",
          "s22-01-25 03:00",
          "s22-01-25 04:00",
          "s22-01-25 05:00",
          "s22-01-25 06:00",
          "s22-01-25 07:00"
         ]
        }
       ],
       "layout": {
        "font": {
         "color": "#e1e1e1",
         "size": 8
        },
        "height": 400,
        "margin": {
         "b": 10,
         "l": 10,
         "r": 10,
         "t": 10
        },
        "paper_bgcolor": "#2c303c",
        "plot_bgcolor": "#2c303c",
        "template": {
         "data": {
          "bar": [
           {
            "error_x": {
             "color": "#2a3f5f"
            },
            "error_y": {
             "color": "#2a3f5f"
            },
            "marker": {
             "line": {
              "color": "#E5ECF6",
              "width": 0.5
             },
             "pattern": {
              "fillmode": "overlay",
              "size": 10,
              "solidity": 0.2
             }
            },
            "type": "bar"
           }
          ],
          "barpolar": [
           {
            "marker": {
             "line": {
              "color": "#E5ECF6",
              "width": 0.5
             },
             "pattern": {
              "fillmode": "overlay",
              "size": 10,
              "solidity": 0.2
             }
            },
            "type": "barpolar"
           }
          ],
          "carpet": [
           {
            "aaxis": {
             "endlinecolor": "#2a3f5f",
             "gridcolor": "white",
             "linecolor": "white",
             "minorgridcolor": "white",
             "startlinecolor": "#2a3f5f"
            },
            "baxis": {
             "endlinecolor": "#2a3f5f",
             "gridcolor": "white",
             "linecolor": "white",
             "minorgridcolor": "white",
             "startlinecolor": "#2a3f5f"
            },
            "type": "carpet"
           }
          ],
          "choropleth": [
           {
            "colorbar": {
             "outlinewidth": 0,
             "ticks": ""
            },
            "type": "choropleth"
           }
          ],
          "contour": [
           {
            "colorbar": {
             "outlinewidth": 0,
             "ticks": ""
            },
            "colorscale": [
             [
              0,
              "#0d0887"
             ],
             [
              0.1111111111111111,
              "#46039f"
             ],
             [
              0.2222222222222222,
              "#7201a8"
             ],
             [
              0.3333333333333333,
              "#9c179e"
             ],
             [
              0.4444444444444444,
              "#bd3786"
             ],
             [
              0.5555555555555556,
              "#d8576b"
             ],
             [
              0.6666666666666666,
              "#ed7953"
             ],
             [
              0.7777777777777778,
              "#fb9f3a"
             ],
             [
              0.8888888888888888,
              "#fdca26"
             ],
             [
              1,
              "#f0f921"
             ]
            ],
            "type": "contour"
           }
          ],
          "contourcarpet": [
           {
            "colorbar": {
             "outlinewidth": 0,
             "ticks": ""
            },
            "type": "contourcarpet"
           }
          ],
          "heatmap": [
           {
            "colorbar": {
             "outlinewidth": 0,
             "ticks": ""
            },
            "colorscale": [
             [
              0,
              "#0d0887"
             ],
             [
              0.1111111111111111,
              "#46039f"
             ],
             [
              0.2222222222222222,
              "#7201a8"
             ],
             [
              0.3333333333333333,
              "#9c179e"
             ],
             [
              0.4444444444444444,
              "#bd3786"
             ],
             [
              0.5555555555555556,
              "#d8576b"
             ],
             [
              0.6666666666666666,
              "#ed7953"
             ],
             [
              0.7777777777777778,
              "#fb9f3a"
             ],
             [
              0.8888888888888888,
              "#fdca26"
             ],
             [
              1,
              "#f0f921"
             ]
            ],
            "type": "heatmap"
           }
          ],
          "histogram": [
           {
            "marker": {
             "pattern": {
              "fillmode": "overlay",
              "size": 10,
              "solidity": 0.2
             }
            },
            "type": "histogram"
           }
          ],
          "histogram2d": [
           {
            "colorbar": {
             "outlinewidth": 0,
             "ticks": ""
            },
            "colorscale": [
             [
              0,
              "#0d0887"
             ],
             [
              0.1111111111111111,
              "#46039f"
             ],
             [
              0.2222222222222222,
              "#7201a8"
             ],
             [
              0.3333333333333333,
              "#9c179e"
             ],
             [
              0.4444444444444444,
              "#bd3786"
             ],
             [
              0.5555555555555556,
              "#d8576b"
             ],
             [
              0.6666666666666666,
              "#ed7953"
             ],
             [
              0.7777777777777778,
              "#fb9f3a"
             ],
             [
              0.8888888888888888,
              "#fdca26"
             ],
             [
              1,
              "#f0f921"
             ]
            ],
            "type": "histogram2d"
           }
          ],
          "histogram2dcontour": [
           {
            "colorbar": {
             "outlinewidth": 0,
             "ticks": ""
            },
            "colorscale": [
             [
              0,
              "#0d0887"
             ],
             [
              0.1111111111111111,
              "#46039f"
             ],
             [
              0.2222222222222222,
              "#7201a8"
             ],
             [
              0.3333333333333333,
              "#9c179e"
             ],
             [
              0.4444444444444444,
              "#bd3786"
             ],
             [
              0.5555555555555556,
              "#d8576b"
             ],
             [
              0.6666666666666666,
              "#ed7953"
             ],
             [
              0.7777777777777778,
              "#fb9f3a"
             ],
             [
              0.8888888888888888,
              "#fdca26"
             ],
             [
              1,
              "#f0f921"
             ]
            ],
            "type": "histogram2dcontour"
           }
          ],
          "mesh3d": [
           {
            "colorbar": {
             "outlinewidth": 0,
             "ticks": ""
            },
            "type": "mesh3d"
           }
          ],
          "parcoords": [
           {
            "line": {
             "colorbar": {
              "outlinewidth": 0,
              "ticks": ""
             }
            },
            "type": "parcoords"
           }
          ],
          "pie": [
           {
            "automargin": true,
            "type": "pie"
           }
          ],
          "scatter": [
           {
            "fillpattern": {
             "fillmode": "overlay",
             "size": 10,
             "solidity": 0.2
            },
            "type": "scatter"
           }
          ],
          "scatter3d": [
           {
            "line": {
             "colorbar": {
              "outlinewidth": 0,
              "ticks": ""
             }
            },
            "marker": {
             "colorbar": {
              "outlinewidth": 0,
              "ticks": ""
             }
            },
            "type": "scatter3d"
           }
          ],
          "scattercarpet": [
           {
            "marker": {
             "colorbar": {
              "outlinewidth": 0,
              "ticks": ""
             }
            },
            "type": "scattercarpet"
           }
          ],
          "scattergeo": [
           {
            "marker": {
             "colorbar": {
              "outlinewidth": 0,
              "ticks": ""
             }
            },
            "type": "scattergeo"
           }
          ],
          "scattergl": [
           {
            "marker": {
             "colorbar": {
              "outlinewidth": 0,
              "ticks": ""
             }
            },
            "type": "scattergl"
           }
          ],
          "scattermap": [
           {
            "marker": {
             "colorbar": {
              "outlinewidth": 0,
              "ticks": ""
             }
            },
            "type": "scattermap"
           }
          ],
          "scattermapbox": [
           {
            "marker": {
             "colorbar": {
              "outlinewidth": 0,
              "ticks": ""
             }
            },
            "type": "scattermapbox"
           }
          ],
          "scatterpolar": [
           {
            "marker": {
             "colorbar": {
              "outlinewidth": 0,
              "ticks": ""
             }
            },
            "type": "scatterpolar"
           }
          ],
          "scatterpolargl": [
           {
            "marker": {
             "colorbar": {
              "outlinewidth": 0,
              "ticks": ""
             }
            },
            "type": "scatterpolargl"
           }
          ],
          "scatterternary": [
           {
            "marker": {
             "colorbar": {
              "outlinewidth": 0,
              "ticks": ""
             }
            },
            "type": "scatterternary"
           }
          ],
          "surface": [
           {
            "colorbar": {
             "outlinewidth": 0,
             "ticks": ""
            },
            "colorscale": [
             [
              0,
              "#0d0887"
             ],
             [
              0.1111111111111111,
              "#46039f"
             ],
             [
              0.2222222222222222,
              "#7201a8"
             ],
             [
              0.3333333333333333,
              "#9c179e"
             ],
             [
              0.4444444444444444,
              "#bd3786"
             ],
             [
              0.5555555555555556,
              "#d8576b"
             ],
             [
              0.6666666666666666,
              "#ed7953"
             ],
             [
              0.7777777777777778,
              "#fb9f3a"
             ],
             [
              0.8888888888888888,
              "#fdca26"
             ],
             [
              1,
              "#f0f921"
             ]
            ],
            "type": "surface"
           }
          ],
          "table": [
           {
            "cells": {
             "fill": {
              "color": "#EBF0F8"
             },
             "line": {
              "color": "white"
             }
            },
            "header": {
             "fill": {
              "color": "#C8D4E3"
             },
             "line": {
              "color": "white"
             }
            },
            "type": "table"
           }
          ]
         },
         "layout": {
          "annotationdefaults": {
           "arrowcolor": "#2a3f5f",
           "arrowhead": 0,
           "arrowwidth": 1
          },
          "autotypenumbers": "strict",
          "coloraxis": {
           "colorbar": {
            "outlinewidth": 0,
            "ticks": ""
           }
          },
          "colorscale": {
           "diverging": [
            [
             0,
             "#8e0152"
            ],
            [
             0.1,
             "#c51b7d"
            ],
            [
             0.2,
             "#de77ae"
            ],
            [
             0.3,
             "#f1b6da"
            ],
            [
             0.4,
             "#fde0ef"
            ],
            [
             0.5,
             "#f7f7f7"
            ],
            [
             0.6,
             "#e6f5d0"
            ],
            [
             0.7,
             "#b8e186"
            ],
            [
             0.8,
             "#7fbc41"
            ],
            [
             0.9,
             "#4d9221"
            ],
            [
             1,
             "#276419"
            ]
           ],
           "sequential": [
            [
             0,
             "#0d0887"
            ],
            [
             0.1111111111111111,
             "#46039f"
            ],
            [
             0.2222222222222222,
             "#7201a8"
            ],
            [
             0.3333333333333333,
             "#9c179e"
            ],
            [
             0.4444444444444444,
             "#bd3786"
            ],
            [
             0.5555555555555556,
             "#d8576b"
            ],
            [
             0.6666666666666666,
             "#ed7953"
            ],
            [
             0.7777777777777778,
             "#fb9f3a"
            ],
            [
             0.8888888888888888,
             "#fdca26"
            ],
            [
             1,
             "#f0f921"
            ]
           ],
           "sequentialminus": [
            [
             0,
             "#0d0887"
            ],
            [
             0.1111111111111111,
             "#46039f"
            ],
            [
             0.2222222222222222,
             "#7201a8"
            ],
            [
             0.3333333333333333,
             "#9c179e"
            ],
            [
             0.4444444444444444,
             "#bd3786"
            ],
            [
             0.5555555555555556,
             "#d8576b"
            ],
            [
             0.6666666666666666,
             "#ed7953"
            ],
            [
             0.7777777777777778,
             "#fb9f3a"
            ],
            [
             0.8888888888888888,
             "#fdca26"
            ],
            [
             1,
             "#f0f921"
            ]
           ]
          },
          "colorway": [
           "#636efa",
           "#EF553B",
           "#00cc96",
           "#ab63fa",
           "#FFA15A",
           "#19d3f3",
           "#FF6692",
           "#B6E880",
           "#FF97FF",
           "#FECB52"
          ],
          "font": {
           "color": "#2a3f5f"
          },
          "geo": {
           "bgcolor": "white",
           "lakecolor": "white",
           "landcolor": "#E5ECF6",
           "showlakes": true,
           "showland": true,
           "subunitcolor": "white"
          },
          "hoverlabel": {
           "align": "left"
          },
          "hovermode": "closest",
          "mapbox": {
           "style": "light"
          },
          "paper_bgcolor": "white",
          "plot_bgcolor": "#E5ECF6",
          "polar": {
           "angularaxis": {
            "gridcolor": "white",
            "linecolor": "white",
            "ticks": ""
           },
           "bgcolor": "#E5ECF6",
           "radialaxis": {
            "gridcolor": "white",
            "linecolor": "white",
            "ticks": ""
           }
          },
          "scene": {
           "xaxis": {
            "backgroundcolor": "#E5ECF6",
            "gridcolor": "white",
            "gridwidth": 2,
            "linecolor": "white",
            "showbackground": true,
            "ticks": "",
            "zerolinecolor": "white"
           },
           "yaxis": {
            "backgroundcolor": "#E5ECF6",
            "gridcolor": "white",
            "gridwidth": 2,
            "linecolor": "white",
            "showbackground": true,
            "ticks": "",
            "zerolinecolor": "white"
           },
           "zaxis": {
            "backgroundcolor": "#E5ECF6",
            "gridcolor": "white",
            "gridwidth": 2,
            "linecolor": "white",
            "showbackground": true,
            "ticks": "",
            "zerolinecolor": "white"
           }
          },
          "shapedefaults": {
           "line": {
            "color": "#2a3f5f"
           }
          },
          "ternary": {
           "aaxis": {
            "gridcolor": "white",
            "linecolor": "white",
            "ticks": ""
           },
           "baxis": {
            "gridcolor": "white",
            "linecolor": "white",
            "ticks": ""
           },
           "bgcolor": "#E5ECF6",
           "caxis": {
            "gridcolor": "white",
            "linecolor": "white",
            "ticks": ""
           }
          },
          "title": {
           "x": 0.05
          },
          "xaxis": {
           "automargin": true,
           "gridcolor": "white",
           "linecolor": "white",
           "ticks": "",
           "title": {
            "standoff": 15
           },
           "zerolinecolor": "white",
           "zerolinewidth": 2
          },
          "yaxis": {
           "automargin": true,
           "gridcolor": "white",
           "linecolor": "white",
           "ticks": "",
           "title": {
            "standoff": 15
           },
           "zerolinecolor": "white",
           "zerolinewidth": 2
          }
         }
        },
        "width": 900,
        "xaxis": {
         "anchor": "y",
         "domain": [
          0,
          0.94
         ],
         "gridcolor": "#1f292f",
         "nticks": 5,
         "rangeslider": {
          "visible": false
         }
        },
        "yaxis": {
         "anchor": "x",
         "domain": [
          0,
          1
         ],
         "gridcolor": "#1f292f"
        },
        "yaxis2": {
         "anchor": "x",
         "gridcolor": "#1f292f",
         "overlaying": "y",
         "side": "right"
        }
       }
      }
     },
     "metadata": {},
     "output_type": "display_data"
    }
   ],
   "source": [
    "dfp = df_an.iloc[-100:]\n",
    "cp = CandlePlot(dfp, candles=True)\n",
    "cp.show_plot(line_traces=[], sec_traces=[])"
   ]
  },
  {
   "cell_type": "code",
   "execution_count": 8,
   "id": "2fbc028f",
   "metadata": {},
   "outputs": [],
   "source": [
    "import plotly.graph_objects as go"
   ]
  },
  {
   "cell_type": "code",
   "execution_count": 9,
   "id": "1e45762a",
   "metadata": {},
   "outputs": [
    {
     "data": {
      "application/vnd.plotly.v1+json": {
       "config": {
        "plotlyServerURL": "https://plot.ly"
       },
       "data": [
        {
         "name": "HIST",
         "type": "bar",
         "x": [
          "s22-01-19 04:00",
          "s22-01-19 05:00",
          "s22-01-19 06:00",
          "s22-01-19 07:00",
          "s22-01-19 08:00",
          "s22-01-19 09:00",
          "s22-01-19 10:00",
          "s22-01-19 11:00",
          "s22-01-19 12:00",
          "s22-01-19 13:00",
          "s22-01-19 14:00",
          "s22-01-19 15:00",
          "s22-01-19 16:00",
          "s22-01-19 17:00",
          "s22-01-19 18:00",
          "s22-01-19 19:00",
          "s22-01-19 20:00",
          "s22-01-19 21:00",
          "s22-01-19 22:00",
          "s22-01-19 23:00",
          "s22-01-20 00:00",
          "s22-01-20 01:00",
          "s22-01-20 02:00",
          "s22-01-20 03:00",
          "s22-01-20 04:00",
          "s22-01-20 05:00",
          "s22-01-20 06:00",
          "s22-01-20 07:00",
          "s22-01-20 08:00",
          "s22-01-20 09:00",
          "s22-01-20 10:00",
          "s22-01-20 11:00",
          "s22-01-20 12:00",
          "s22-01-20 13:00",
          "s22-01-20 14:00",
          "s22-01-20 15:00",
          "s22-01-20 16:00",
          "s22-01-20 17:00",
          "s22-01-20 18:00",
          "s22-01-20 19:00",
          "s22-01-20 20:00",
          "s22-01-20 21:00",
          "s22-01-20 22:00",
          "s22-01-20 23:00",
          "s22-01-21 00:00",
          "s22-01-21 01:00",
          "s22-01-21 02:00",
          "s22-01-21 03:00",
          "s22-01-21 04:00",
          "s22-01-21 05:00",
          "s22-01-21 06:00",
          "s22-01-21 07:00",
          "s22-01-21 08:00",
          "s22-01-21 09:00",
          "s22-01-21 10:00",
          "s22-01-21 11:00",
          "s22-01-21 12:00",
          "s22-01-21 13:00",
          "s22-01-21 14:00",
          "s22-01-21 15:00",
          "s22-01-21 16:00",
          "s22-01-21 17:00",
          "s22-01-21 18:00",
          "s22-01-21 19:00",
          "s22-01-21 20:00",
          "s22-01-21 21:00",
          "s22-01-23 22:00",
          "s22-01-23 23:00",
          "s22-01-24 00:00",
          "s22-01-24 01:00",
          "s22-01-24 02:00",
          "s22-01-24 03:00",
          "s22-01-24 04:00",
          "s22-01-24 05:00",
          "s22-01-24 06:00",
          "s22-01-24 07:00",
          "s22-01-24 08:00",
          "s22-01-24 09:00",
          "s22-01-24 10:00",
          "s22-01-24 11:00",
          "s22-01-24 12:00",
          "s22-01-24 13:00",
          "s22-01-24 14:00",
          "s22-01-24 15:00",
          "s22-01-24 16:00",
          "s22-01-24 17:00",
          "s22-01-24 18:00",
          "s22-01-24 19:00",
          "s22-01-24 20:00",
          "s22-01-24 21:00",
          "s22-01-24 22:00",
          "s22-01-24 23:00",
          "s22-01-25 00:00",
          "s22-01-25 01:00",
          "s22-01-25 02:00",
          "s22-01-25 03:00",
          "s22-01-25 04:00",
          "s22-01-25 05:00",
          "s22-01-25 06:00",
          "s22-01-25 07:00"
         ],
         "y": {
          "bdata": "4DfKiQU6CT8AsByfXDkYPzhTh7D1rCg//CgJRhPdJz80R4KwnNcjP2Af5mW3qSM/6KXcEjq1Kj9UXnYBuicuP1af5ZFFTTA/EdkCiO1XNz/URmRZvflBPw8PiknxckU/pXUhR2xpRT+3V4ewfltDP15pry0SC0E/YpU6PHXUOj8acaFrH1Y0PxRUEH6JCTA/uLlXEM+/JD+QVLOJcOEhPwzq6fYZiy4/nL0ZstLJMz+ut0I7Bv8yP3z/eCkKlS0/lH8b66hdJT+A+idrVhTvPpgAEGUNihG/sDOZ/yQzF7+Y3KbjHc4Uv9ixPymNGCK/mJwW7rndGb/glggPhPgQv7AkOBBa0gi/EElXHynyBz9om673V40iP7RiL6kOnCM/GFGeUMoLHD8AnaRKJjT0PtgT0Qok2By/8MdQQnvYLL9gto+KeVUwvxrl6u3UYDG/4hCBNx5VM7+2YKUAM844v5EguTxt7j+/B01mEQU6QL85Z0uTAxVAv/SRxMou2j+/j6G0X3RNP78+QZo7mG49v2SHxV5eYzq/HPndXroUNr/iIKRnGgozv0y6q8n68jC/RN0sU5sEJr8AYq4Kvywfv5iBoRui4xK/8DEiTZE1FT/809zX6fkjP/wP8OY5ISk/y+ysSELAMD88SiEPBAExP/30YAAd6jA/yBTt0YP4LD+fUKs8xpEuPxlaLucLCS0/4BRCE602KD+00K1LqQwnP4/AHVKDFCI/S2cR57nnGT9EpYNvMiwKP4DusPWu9tQ+wIEgGqXEDL9ZwI34jgUkvxTNXMR8Iyq/Qte981pUKr9n36GyXL4ov1LMJZYWOSK/ciOMH7h6K78tbqjwmu4wvyS4IMTq2TK/gkbf42SoMr8yRbxNsvIyv+jhS0WNPSe/gGyrzgC/A78Au8ywEQoTPwB+pOTY7yA/NItJC6b0KT9IkSCfHiY0P6D6JGF7gTc/GkJq954pOT96bpQmyxI7P2Qvf+/LCUA/Bp8B+quyPz82v4g1mqM6P/g4GDgJHTY/WI7V6HywLD/eMZVlcAkjP2BsV7uOtw0/UK2gRQsR9z4=",
          "dtype": "f8"
         }
        },
        {
         "line": {
          "shape": "spline",
          "width": 2
         },
         "name": "SIGNAL",
         "type": "scatter",
         "x": [
          "s22-01-19 04:00",
          "s22-01-19 05:00",
          "s22-01-19 06:00",
          "s22-01-19 07:00",
          "s22-01-19 08:00",
          "s22-01-19 09:00",
          "s22-01-19 10:00",
          "s22-01-19 11:00",
          "s22-01-19 12:00",
          "s22-01-19 13:00",
          "s22-01-19 14:00",
          "s22-01-19 15:00",
          "s22-01-19 16:00",
          "s22-01-19 17:00",
          "s22-01-19 18:00",
          "s22-01-19 19:00",
          "s22-01-19 20:00",
          "s22-01-19 21:00",
          "s22-01-19 22:00",
          "s22-01-19 23:00",
          "s22-01-20 00:00",
          "s22-01-20 01:00",
          "s22-01-20 02:00",
          "s22-01-20 03:00",
          "s22-01-20 04:00",
          "s22-01-20 05:00",
          "s22-01-20 06:00",
          "s22-01-20 07:00",
          "s22-01-20 08:00",
          "s22-01-20 09:00",
          "s22-01-20 10:00",
          "s22-01-20 11:00",
          "s22-01-20 12:00",
          "s22-01-20 13:00",
          "s22-01-20 14:00",
          "s22-01-20 15:00",
          "s22-01-20 16:00",
          "s22-01-20 17:00",
          "s22-01-20 18:00",
          "s22-01-20 19:00",
          "s22-01-20 20:00",
          "s22-01-20 21:00",
          "s22-01-20 22:00",
          "s22-01-20 23:00",
          "s22-01-21 00:00",
          "s22-01-21 01:00",
          "s22-01-21 02:00",
          "s22-01-21 03:00",
          "s22-01-21 04:00",
          "s22-01-21 05:00",
          "s22-01-21 06:00",
          "s22-01-21 07:00",
          "s22-01-21 08:00",
          "s22-01-21 09:00",
          "s22-01-21 10:00",
          "s22-01-21 11:00",
          "s22-01-21 12:00",
          "s22-01-21 13:00",
          "s22-01-21 14:00",
          "s22-01-21 15:00",
          "s22-01-21 16:00",
          "s22-01-21 17:00",
          "s22-01-21 18:00",
          "s22-01-21 19:00",
          "s22-01-21 20:00",
          "s22-01-21 21:00",
          "s22-01-23 22:00",
          "s22-01-23 23:00",
          "s22-01-24 00:00",
          "s22-01-24 01:00",
          "s22-01-24 02:00",
          "s22-01-24 03:00",
          "s22-01-24 04:00",
          "s22-01-24 05:00",
          "s22-01-24 06:00",
          "s22-01-24 07:00",
          "s22-01-24 08:00",
          "s22-01-24 09:00",
          "s22-01-24 10:00",
          "s22-01-24 11:00",
          "s22-01-24 12:00",
          "s22-01-24 13:00",
          "s22-01-24 14:00",
          "s22-01-24 15:00",
          "s22-01-24 16:00",
          "s22-01-24 17:00",
          "s22-01-24 18:00",
          "s22-01-24 19:00",
          "s22-01-24 20:00",
          "s22-01-24 21:00",
          "s22-01-24 22:00",
          "s22-01-24 23:00",
          "s22-01-25 00:00",
          "s22-01-25 01:00",
          "s22-01-25 02:00",
          "s22-01-25 03:00",
          "s22-01-25 04:00",
          "s22-01-25 05:00",
          "s22-01-25 06:00",
          "s22-01-25 07:00"
         ],
         "xaxis": "x",
         "y": {
          "bdata": "fhMJZB3xTL8ALhB/Ui9Mv864BySDpEq/Pyan77EmSb/NAZ8kOOlHv9ifQK6crka/etUSDUkDRb+Vb/tszSBDv6u7vrokF0G/EcF8E05YPL+nncpmb1szvz0sC4TtQyG/qiVZDPuVAD8koZ1z/YAnP0OFptAHRjQ/niq1HyX7Oj9zw059VghAP/bNEK2HCUI/kkkWnoRVQz/cfrGmm3NEP30dIEZNXEY/MlVjnIfVSD8prMtjaDVLPyE8Ywa5Dk0/G/QUlZNkTj8WHIDrp4NOPxOcV4BX900/dtJaWL49TT+Tmz1pTZdMP3agqZbEdUs/k+s4x9amSj/cpsCmEh9KP0vGfz7Ju0k/byP94pEbSj8mDXhiZ0RLP1MDC00ofkw/3fWPn4ZeTT8YPyXs7oZNP3u2zsstoEw//KmpF6bSSj8ws1fm9sdIP41Wmkjcm0Y/cTSqgTgxRD9biJUhchdBP5HI/PNIMzo/DqJJa0YWMj/j3EdDiRckP55PlnfHqQA/xHnpo5D4Fr+D3cFvlDMqv5xQks+hsjO/5M5JZ9A3Ob8e1zIBV/o9v9riztmKG0G/r7ABj9R7Qr/AI1eHOnVDv80vNJhXDES/Ph7LDatiQ7//UE1wDCNCv/9P3tH4kEC/y2SREeHxPL88EskNoLE4v/3UsM0YdzS/ZDJzUwjYML+fkLsXnwsqvxn67x1cySK/wek+smF3Gb/OAtAYGuILv3uEZI0tm/O+S4uzZjEy2T53tW6RpWLzPmDEyYAQsvQ+/A3mzvc+2T6c/rD+r90Av9nlhmGWgBW/vuiy7WFVIb+ZYFsa+YQnv67T5L8+Eyy/R+7jY/Z4Mb/TCQ4gnbQ1v9w3FtEXazq/fgkOCjEVP79njb7O7uhBv4ZLE6PHXEO/OPlNpsOrQ79gk8cYcxNDv4BLfYp1BEK/zbLIKStlQL9IQcmrzsA7v6ACgNNv4DW/M+RKKxAsL7/1rACYqqIhv/vYF4jqjem+6aP+qO6AHD+TsUNvRJIrPwjnp4VkUDM/1JjCInTmNj8RP3Uvokc5P3T6T6VeNTo/K31m0qKROj8=",
          "dtype": "f8"
         },
         "yaxis": "y"
        },
        {
         "line": {
          "shape": "spline",
          "width": 2
         },
         "name": "MACD",
         "type": "scatter",
         "x": [
          "s22-01-19 04:00",
          "s22-01-19 05:00",
          "s22-01-19 06:00",
          "s22-01-19 07:00",
          "s22-01-19 08:00",
          "s22-01-19 09:00",
          "s22-01-19 10:00",
          "s22-01-19 11:00",
          "s22-01-19 12:00",
          "s22-01-19 13:00",
          "s22-01-19 14:00",
          "s22-01-19 15:00",
          "s22-01-19 16:00",
          "s22-01-19 17:00",
          "s22-01-19 18:00",
          "s22-01-19 19:00",
          "s22-01-19 20:00",
          "s22-01-19 21:00",
          "s22-01-19 22:00",
          "s22-01-19 23:00",
          "s22-01-20 00:00",
          "s22-01-20 01:00",
          "s22-01-20 02:00",
          "s22-01-20 03:00",
          "s22-01-20 04:00",
          "s22-01-20 05:00",
          "s22-01-20 06:00",
          "s22-01-20 07:00",
          "s22-01-20 08:00",
          "s22-01-20 09:00",
          "s22-01-20 10:00",
          "s22-01-20 11:00",
          "s22-01-20 12:00",
          "s22-01-20 13:00",
          "s22-01-20 14:00",
          "s22-01-20 15:00",
          "s22-01-20 16:00",
          "s22-01-20 17:00",
          "s22-01-20 18:00",
          "s22-01-20 19:00",
          "s22-01-20 20:00",
          "s22-01-20 21:00",
          "s22-01-20 22:00",
          "s22-01-20 23:00",
          "s22-01-21 00:00",
          "s22-01-21 01:00",
          "s22-01-21 02:00",
          "s22-01-21 03:00",
          "s22-01-21 04:00",
          "s22-01-21 05:00",
          "s22-01-21 06:00",
          "s22-01-21 07:00",
          "s22-01-21 08:00",
          "s22-01-21 09:00",
          "s22-01-21 10:00",
          "s22-01-21 11:00",
          "s22-01-21 12:00",
          "s22-01-21 13:00",
          "s22-01-21 14:00",
          "s22-01-21 15:00",
          "s22-01-21 16:00",
          "s22-01-21 17:00",
          "s22-01-21 18:00",
          "s22-01-21 19:00",
          "s22-01-21 20:00",
          "s22-01-21 21:00",
          "s22-01-23 22:00",
          "s22-01-23 23:00",
          "s22-01-24 00:00",
          "s22-01-24 01:00",
          "s22-01-24 02:00",
          "s22-01-24 03:00",
          "s22-01-24 04:00",
          "s22-01-24 05:00",
          "s22-01-24 06:00",
          "s22-01-24 07:00",
          "s22-01-24 08:00",
          "s22-01-24 09:00",
          "s22-01-24 10:00",
          "s22-01-24 11:00",
          "s22-01-24 12:00",
          "s22-01-24 13:00",
          "s22-01-24 14:00",
          "s22-01-24 15:00",
          "s22-01-24 16:00",
          "s22-01-24 17:00",
          "s22-01-24 18:00",
          "s22-01-24 19:00",
          "s22-01-24 20:00",
          "s22-01-24 21:00",
          "s22-01-24 22:00",
          "s22-01-24 23:00",
          "s22-01-25 00:00",
          "s22-01-25 01:00",
          "s22-01-25 02:00",
          "s22-01-25 03:00",
          "s22-01-25 04:00",
          "s22-01-25 05:00",
          "s22-01-25 06:00",
          "s22-01-25 07:00"
         ],
         "xaxis": "x",
         "y": {
          "bdata": "AHBsC31dS78AmCzrJihJvwDk5bdFeUS/ANwkHm0vQ78AcH74UPNCvwAYx9QuxEG/AFi3EPWrPL8AsDvZvS03vwDYl+MD4TG/AKDnLYIBFL8A8P1LC5gwPwBEh+j1IUE/AAjn98tyRj8AwG4NvjtJPwCsAhYWLks/AOD3Lc3nSj8AfB8zZjNKPwD4GGxMDko/ADgsYniFSD8AVB7J9+tIPwCY2sMT/00/ABq4ejhdUT8AhLbAdVpSPwC+YMj9OVI/AOrt5/7dUT8AvCxF+f9OPwCctdMVxks/AKxnuFlXSj8AwMisif1JPwC0WUyh70Y/ABh2iR9rRz8AlN8kAgBIPwBEfJ2jLkg/AJjydLSaSz8AtGNgvedPPwBuq/uVslA/AODR9P9vUD8AZHoekChOPwCUdEopBUk/AHgVR4ecQz8A2A8hOp1APwDISaPj1js/AFjTy1INNT8AYAuFYsEiPwBg8SKR7Ba/APAFb4e7LL8A4PKEQh42vwDI0dv1xD2/AIBXRMyFQr8AmL05MURFvwDsKxcAC0e/AOQTY0WmR78AfGu0OIJIvwDApD4IlUm/AOjMY/v8R78A8Kxo0lpHvwBgqNvLaEa/ANgm5Pi7QL8AOKz0I0k6vwCYRLBUkTS/APDIkT1jKL8AIJ/6b8IevwAAf2reZwy/AEDlUzPeAr8AAL+TnBgCPwDAfJJffxQ/AEBFdPj1Fj8A0HnFIhQgPwBg4kA7Qh8/AKB8/dx6Gz8AgB2cwu4RPwAANj687/k+AMBDIMacCb8AADr4+jwovwAgkPrjcTK/AGC4cN7UNb8AoH7mqiE4vwBQBasqJje/AACqc1I2P78APFsInFFDvwB4m0qBoka/AKj29sreSL8AsJz1R2JLvwBEZvQqLEm/ALA4s7PnRL8A/K3iMLJAvwBYqKL+kDu/AKDsTQPQM78AwKIywGoevwCAT9q4EPo+AKCJwy0nIz8AGJTadUEyPwCgvYooRz8/AKQg0nNpQz8ATJU2XjZEPwAQ4N62tkQ/ALCWS1mfQj8A7B8xLWZBPwDounxQ7D0/AIjAhrMCPD8=",
          "dtype": "f8"
         },
         "yaxis": "y"
        }
       ],
       "layout": {
        "font": {
         "color": "#e1e1e1",
         "size": 8
        },
        "height": 400,
        "margin": {
         "b": 10,
         "l": 10,
         "r": 10,
         "t": 10
        },
        "paper_bgcolor": "#2c303c",
        "plot_bgcolor": "#2c303c",
        "template": {
         "data": {
          "bar": [
           {
            "error_x": {
             "color": "#2a3f5f"
            },
            "error_y": {
             "color": "#2a3f5f"
            },
            "marker": {
             "line": {
              "color": "#E5ECF6",
              "width": 0.5
             },
             "pattern": {
              "fillmode": "overlay",
              "size": 10,
              "solidity": 0.2
             }
            },
            "type": "bar"
           }
          ],
          "barpolar": [
           {
            "marker": {
             "line": {
              "color": "#E5ECF6",
              "width": 0.5
             },
             "pattern": {
              "fillmode": "overlay",
              "size": 10,
              "solidity": 0.2
             }
            },
            "type": "barpolar"
           }
          ],
          "carpet": [
           {
            "aaxis": {
             "endlinecolor": "#2a3f5f",
             "gridcolor": "white",
             "linecolor": "white",
             "minorgridcolor": "white",
             "startlinecolor": "#2a3f5f"
            },
            "baxis": {
             "endlinecolor": "#2a3f5f",
             "gridcolor": "white",
             "linecolor": "white",
             "minorgridcolor": "white",
             "startlinecolor": "#2a3f5f"
            },
            "type": "carpet"
           }
          ],
          "choropleth": [
           {
            "colorbar": {
             "outlinewidth": 0,
             "ticks": ""
            },
            "type": "choropleth"
           }
          ],
          "contour": [
           {
            "colorbar": {
             "outlinewidth": 0,
             "ticks": ""
            },
            "colorscale": [
             [
              0,
              "#0d0887"
             ],
             [
              0.1111111111111111,
              "#46039f"
             ],
             [
              0.2222222222222222,
              "#7201a8"
             ],
             [
              0.3333333333333333,
              "#9c179e"
             ],
             [
              0.4444444444444444,
              "#bd3786"
             ],
             [
              0.5555555555555556,
              "#d8576b"
             ],
             [
              0.6666666666666666,
              "#ed7953"
             ],
             [
              0.7777777777777778,
              "#fb9f3a"
             ],
             [
              0.8888888888888888,
              "#fdca26"
             ],
             [
              1,
              "#f0f921"
             ]
            ],
            "type": "contour"
           }
          ],
          "contourcarpet": [
           {
            "colorbar": {
             "outlinewidth": 0,
             "ticks": ""
            },
            "type": "contourcarpet"
           }
          ],
          "heatmap": [
           {
            "colorbar": {
             "outlinewidth": 0,
             "ticks": ""
            },
            "colorscale": [
             [
              0,
              "#0d0887"
             ],
             [
              0.1111111111111111,
              "#46039f"
             ],
             [
              0.2222222222222222,
              "#7201a8"
             ],
             [
              0.3333333333333333,
              "#9c179e"
             ],
             [
              0.4444444444444444,
              "#bd3786"
             ],
             [
              0.5555555555555556,
              "#d8576b"
             ],
             [
              0.6666666666666666,
              "#ed7953"
             ],
             [
              0.7777777777777778,
              "#fb9f3a"
             ],
             [
              0.8888888888888888,
              "#fdca26"
             ],
             [
              1,
              "#f0f921"
             ]
            ],
            "type": "heatmap"
           }
          ],
          "histogram": [
           {
            "marker": {
             "pattern": {
              "fillmode": "overlay",
              "size": 10,
              "solidity": 0.2
             }
            },
            "type": "histogram"
           }
          ],
          "histogram2d": [
           {
            "colorbar": {
             "outlinewidth": 0,
             "ticks": ""
            },
            "colorscale": [
             [
              0,
              "#0d0887"
             ],
             [
              0.1111111111111111,
              "#46039f"
             ],
             [
              0.2222222222222222,
              "#7201a8"
             ],
             [
              0.3333333333333333,
              "#9c179e"
             ],
             [
              0.4444444444444444,
              "#bd3786"
             ],
             [
              0.5555555555555556,
              "#d8576b"
             ],
             [
              0.6666666666666666,
              "#ed7953"
             ],
             [
              0.7777777777777778,
              "#fb9f3a"
             ],
             [
              0.8888888888888888,
              "#fdca26"
             ],
             [
              1,
              "#f0f921"
             ]
            ],
            "type": "histogram2d"
           }
          ],
          "histogram2dcontour": [
           {
            "colorbar": {
             "outlinewidth": 0,
             "ticks": ""
            },
            "colorscale": [
             [
              0,
              "#0d0887"
             ],
             [
              0.1111111111111111,
              "#46039f"
             ],
             [
              0.2222222222222222,
              "#7201a8"
             ],
             [
              0.3333333333333333,
              "#9c179e"
             ],
             [
              0.4444444444444444,
              "#bd3786"
             ],
             [
              0.5555555555555556,
              "#d8576b"
             ],
             [
              0.6666666666666666,
              "#ed7953"
             ],
             [
              0.7777777777777778,
              "#fb9f3a"
             ],
             [
              0.8888888888888888,
              "#fdca26"
             ],
             [
              1,
              "#f0f921"
             ]
            ],
            "type": "histogram2dcontour"
           }
          ],
          "mesh3d": [
           {
            "colorbar": {
             "outlinewidth": 0,
             "ticks": ""
            },
            "type": "mesh3d"
           }
          ],
          "parcoords": [
           {
            "line": {
             "colorbar": {
              "outlinewidth": 0,
              "ticks": ""
             }
            },
            "type": "parcoords"
           }
          ],
          "pie": [
           {
            "automargin": true,
            "type": "pie"
           }
          ],
          "scatter": [
           {
            "fillpattern": {
             "fillmode": "overlay",
             "size": 10,
             "solidity": 0.2
            },
            "type": "scatter"
           }
          ],
          "scatter3d": [
           {
            "line": {
             "colorbar": {
              "outlinewidth": 0,
              "ticks": ""
             }
            },
            "marker": {
             "colorbar": {
              "outlinewidth": 0,
              "ticks": ""
             }
            },
            "type": "scatter3d"
           }
          ],
          "scattercarpet": [
           {
            "marker": {
             "colorbar": {
              "outlinewidth": 0,
              "ticks": ""
             }
            },
            "type": "scattercarpet"
           }
          ],
          "scattergeo": [
           {
            "marker": {
             "colorbar": {
              "outlinewidth": 0,
              "ticks": ""
             }
            },
            "type": "scattergeo"
           }
          ],
          "scattergl": [
           {
            "marker": {
             "colorbar": {
              "outlinewidth": 0,
              "ticks": ""
             }
            },
            "type": "scattergl"
           }
          ],
          "scattermap": [
           {
            "marker": {
             "colorbar": {
              "outlinewidth": 0,
              "ticks": ""
             }
            },
            "type": "scattermap"
           }
          ],
          "scattermapbox": [
           {
            "marker": {
             "colorbar": {
              "outlinewidth": 0,
              "ticks": ""
             }
            },
            "type": "scattermapbox"
           }
          ],
          "scatterpolar": [
           {
            "marker": {
             "colorbar": {
              "outlinewidth": 0,
              "ticks": ""
             }
            },
            "type": "scatterpolar"
           }
          ],
          "scatterpolargl": [
           {
            "marker": {
             "colorbar": {
              "outlinewidth": 0,
              "ticks": ""
             }
            },
            "type": "scatterpolargl"
           }
          ],
          "scatterternary": [
           {
            "marker": {
             "colorbar": {
              "outlinewidth": 0,
              "ticks": ""
             }
            },
            "type": "scatterternary"
           }
          ],
          "surface": [
           {
            "colorbar": {
             "outlinewidth": 0,
             "ticks": ""
            },
            "colorscale": [
             [
              0,
              "#0d0887"
             ],
             [
              0.1111111111111111,
              "#46039f"
             ],
             [
              0.2222222222222222,
              "#7201a8"
             ],
             [
              0.3333333333333333,
              "#9c179e"
             ],
             [
              0.4444444444444444,
              "#bd3786"
             ],
             [
              0.5555555555555556,
              "#d8576b"
             ],
             [
              0.6666666666666666,
              "#ed7953"
             ],
             [
              0.7777777777777778,
              "#fb9f3a"
             ],
             [
              0.8888888888888888,
              "#fdca26"
             ],
             [
              1,
              "#f0f921"
             ]
            ],
            "type": "surface"
           }
          ],
          "table": [
           {
            "cells": {
             "fill": {
              "color": "#EBF0F8"
             },
             "line": {
              "color": "white"
             }
            },
            "header": {
             "fill": {
              "color": "#C8D4E3"
             },
             "line": {
              "color": "white"
             }
            },
            "type": "table"
           }
          ]
         },
         "layout": {
          "annotationdefaults": {
           "arrowcolor": "#2a3f5f",
           "arrowhead": 0,
           "arrowwidth": 1
          },
          "autotypenumbers": "strict",
          "coloraxis": {
           "colorbar": {
            "outlinewidth": 0,
            "ticks": ""
           }
          },
          "colorscale": {
           "diverging": [
            [
             0,
             "#8e0152"
            ],
            [
             0.1,
             "#c51b7d"
            ],
            [
             0.2,
             "#de77ae"
            ],
            [
             0.3,
             "#f1b6da"
            ],
            [
             0.4,
             "#fde0ef"
            ],
            [
             0.5,
             "#f7f7f7"
            ],
            [
             0.6,
             "#e6f5d0"
            ],
            [
             0.7,
             "#b8e186"
            ],
            [
             0.8,
             "#7fbc41"
            ],
            [
             0.9,
             "#4d9221"
            ],
            [
             1,
             "#276419"
            ]
           ],
           "sequential": [
            [
             0,
             "#0d0887"
            ],
            [
             0.1111111111111111,
             "#46039f"
            ],
            [
             0.2222222222222222,
             "#7201a8"
            ],
            [
             0.3333333333333333,
             "#9c179e"
            ],
            [
             0.4444444444444444,
             "#bd3786"
            ],
            [
             0.5555555555555556,
             "#d8576b"
            ],
            [
             0.6666666666666666,
             "#ed7953"
            ],
            [
             0.7777777777777778,
             "#fb9f3a"
            ],
            [
             0.8888888888888888,
             "#fdca26"
            ],
            [
             1,
             "#f0f921"
            ]
           ],
           "sequentialminus": [
            [
             0,
             "#0d0887"
            ],
            [
             0.1111111111111111,
             "#46039f"
            ],
            [
             0.2222222222222222,
             "#7201a8"
            ],
            [
             0.3333333333333333,
             "#9c179e"
            ],
            [
             0.4444444444444444,
             "#bd3786"
            ],
            [
             0.5555555555555556,
             "#d8576b"
            ],
            [
             0.6666666666666666,
             "#ed7953"
            ],
            [
             0.7777777777777778,
             "#fb9f3a"
            ],
            [
             0.8888888888888888,
             "#fdca26"
            ],
            [
             1,
             "#f0f921"
            ]
           ]
          },
          "colorway": [
           "#636efa",
           "#EF553B",
           "#00cc96",
           "#ab63fa",
           "#FFA15A",
           "#19d3f3",
           "#FF6692",
           "#B6E880",
           "#FF97FF",
           "#FECB52"
          ],
          "font": {
           "color": "#2a3f5f"
          },
          "geo": {
           "bgcolor": "white",
           "lakecolor": "white",
           "landcolor": "#E5ECF6",
           "showlakes": true,
           "showland": true,
           "subunitcolor": "white"
          },
          "hoverlabel": {
           "align": "left"
          },
          "hovermode": "closest",
          "mapbox": {
           "style": "light"
          },
          "paper_bgcolor": "white",
          "plot_bgcolor": "#E5ECF6",
          "polar": {
           "angularaxis": {
            "gridcolor": "white",
            "linecolor": "white",
            "ticks": ""
           },
           "bgcolor": "#E5ECF6",
           "radialaxis": {
            "gridcolor": "white",
            "linecolor": "white",
            "ticks": ""
           }
          },
          "scene": {
           "xaxis": {
            "backgroundcolor": "#E5ECF6",
            "gridcolor": "white",
            "gridwidth": 2,
            "linecolor": "white",
            "showbackground": true,
            "ticks": "",
            "zerolinecolor": "white"
           },
           "yaxis": {
            "backgroundcolor": "#E5ECF6",
            "gridcolor": "white",
            "gridwidth": 2,
            "linecolor": "white",
            "showbackground": true,
            "ticks": "",
            "zerolinecolor": "white"
           },
           "zaxis": {
            "backgroundcolor": "#E5ECF6",
            "gridcolor": "white",
            "gridwidth": 2,
            "linecolor": "white",
            "showbackground": true,
            "ticks": "",
            "zerolinecolor": "white"
           }
          },
          "shapedefaults": {
           "line": {
            "color": "#2a3f5f"
           }
          },
          "ternary": {
           "aaxis": {
            "gridcolor": "white",
            "linecolor": "white",
            "ticks": ""
           },
           "baxis": {
            "gridcolor": "white",
            "linecolor": "white",
            "ticks": ""
           },
           "bgcolor": "#E5ECF6",
           "caxis": {
            "gridcolor": "white",
            "linecolor": "white",
            "ticks": ""
           }
          },
          "title": {
           "x": 0.05
          },
          "xaxis": {
           "automargin": true,
           "gridcolor": "white",
           "linecolor": "white",
           "ticks": "",
           "title": {
            "standoff": 15
           },
           "zerolinecolor": "white",
           "zerolinewidth": 2
          },
          "yaxis": {
           "automargin": true,
           "gridcolor": "white",
           "linecolor": "white",
           "ticks": "",
           "title": {
            "standoff": 15
           },
           "zerolinecolor": "white",
           "zerolinewidth": 2
          }
         }
        },
        "width": 900,
        "xaxis": {
         "anchor": "y",
         "domain": [
          0,
          0.94
         ],
         "gridcolor": "#1f292f",
         "nticks": 5,
         "rangeslider": {
          "visible": false
         }
        },
        "yaxis": {
         "anchor": "x",
         "domain": [
          0,
          1
         ],
         "gridcolor": "#1f292f"
        },
        "yaxis2": {
         "anchor": "x",
         "gridcolor": "#1f292f",
         "overlaying": "y",
         "side": "right"
        }
       }
      }
     },
     "metadata": {},
     "output_type": "display_data"
    }
   ],
   "source": [
    "cp = CandlePlot(dfp, candles=False)\n",
    "cp.fig.add_trace(go.Bar(\n",
    "    x=cp.df_plot.sTime,\n",
    "    y=cp.df_plot.HIST,\n",
    "    name=\"HIST\"\n",
    "))\n",
    "cp.show_plot(line_traces=['SIGNAL', 'MACD'], sec_traces=[])"
   ]
  },
  {
   "cell_type": "code",
   "execution_count": null,
   "id": "8b836ece",
   "metadata": {},
   "outputs": [],
   "source": []
  },
  {
   "cell_type": "code",
   "execution_count": null,
   "id": "a70408e6",
   "metadata": {},
   "outputs": [],
   "source": []
  },
  {
   "cell_type": "code",
   "execution_count": null,
   "id": "b1d1d8e5",
   "metadata": {},
   "outputs": [],
   "source": []
  }
 ],
 "metadata": {
  "kernelspec": {
   "display_name": "Python 3 (ipykernel)",
   "language": "python",
   "name": "python3"
  },
  "language_info": {
   "codemirror_mode": {
    "name": "ipython",
    "version": 3
   },
   "file_extension": ".py",
   "mimetype": "text/x-python",
   "name": "python",
   "nbconvert_exporter": "python",
   "pygments_lexer": "ipython3",
   "version": "3.13.1"
  }
 },
 "nbformat": 4,
 "nbformat_minor": 5
}
