{
 "cells": [
  {
   "cell_type": "code",
   "execution_count": 1,
   "metadata": {},
   "outputs": [],
   "source": [
    "import sys\n",
    "sys.path.append(\"../\") \n",
    "from plotting import CandlePlot\n",
    "import pandas as pd\n",
    "from technicals.indicators import BollingerBands, ATR"
   ]
  },
  {
   "cell_type": "code",
   "execution_count": 2,
   "metadata": {},
   "outputs": [],
   "source": [
    "df = pd.read_pickle('../data/AUD_CAD_H1.pkl')\n"
   ]
  },
  {
   "cell_type": "code",
   "execution_count": 3,
   "metadata": {},
   "outputs": [],
   "source": [
    "df_an = df.copy()"
   ]
  },
  {
   "cell_type": "code",
   "execution_count": 4,
   "metadata": {},
   "outputs": [
    {
     "data": {
      "text/html": [
       "<div>\n",
       "<style scoped>\n",
       "    .dataframe tbody tr th:only-of-type {\n",
       "        vertical-align: middle;\n",
       "    }\n",
       "\n",
       "    .dataframe tbody tr th {\n",
       "        vertical-align: top;\n",
       "    }\n",
       "\n",
       "    .dataframe thead th {\n",
       "        text-align: right;\n",
       "    }\n",
       "</style>\n",
       "<table border=\"1\" class=\"dataframe\">\n",
       "  <thead>\n",
       "    <tr style=\"text-align: right;\">\n",
       "      <th></th>\n",
       "      <th>time</th>\n",
       "      <th>volume</th>\n",
       "      <th>mid_o</th>\n",
       "      <th>mid_h</th>\n",
       "      <th>mid_l</th>\n",
       "      <th>mid_c</th>\n",
       "      <th>bid_o</th>\n",
       "      <th>bid_h</th>\n",
       "      <th>bid_l</th>\n",
       "      <th>bid_c</th>\n",
       "      <th>ask_o</th>\n",
       "      <th>ask_h</th>\n",
       "      <th>ask_l</th>\n",
       "      <th>ask_c</th>\n",
       "      <th>ATR_14</th>\n",
       "    </tr>\n",
       "  </thead>\n",
       "  <tbody>\n",
       "    <tr>\n",
       "      <th>3995</th>\n",
       "      <td>2022-01-25 03:00:00+00:00</td>\n",
       "      <td>2482</td>\n",
       "      <td>0.90332</td>\n",
       "      <td>0.90340</td>\n",
       "      <td>0.90278</td>\n",
       "      <td>0.90336</td>\n",
       "      <td>0.90324</td>\n",
       "      <td>0.90332</td>\n",
       "      <td>0.90269</td>\n",
       "      <td>0.90328</td>\n",
       "      <td>0.90339</td>\n",
       "      <td>0.90348</td>\n",
       "      <td>0.90287</td>\n",
       "      <td>0.90344</td>\n",
       "      <td>0.001271</td>\n",
       "    </tr>\n",
       "    <tr>\n",
       "      <th>3996</th>\n",
       "      <td>2022-01-25 04:00:00+00:00</td>\n",
       "      <td>1280</td>\n",
       "      <td>0.90337</td>\n",
       "      <td>0.90352</td>\n",
       "      <td>0.90232</td>\n",
       "      <td>0.90250</td>\n",
       "      <td>0.90328</td>\n",
       "      <td>0.90344</td>\n",
       "      <td>0.90225</td>\n",
       "      <td>0.90243</td>\n",
       "      <td>0.90346</td>\n",
       "      <td>0.90361</td>\n",
       "      <td>0.90240</td>\n",
       "      <td>0.90258</td>\n",
       "      <td>0.001266</td>\n",
       "    </tr>\n",
       "    <tr>\n",
       "      <th>3997</th>\n",
       "      <td>2022-01-25 05:00:00+00:00</td>\n",
       "      <td>1831</td>\n",
       "      <td>0.90250</td>\n",
       "      <td>0.90302</td>\n",
       "      <td>0.90234</td>\n",
       "      <td>0.90274</td>\n",
       "      <td>0.90242</td>\n",
       "      <td>0.90294</td>\n",
       "      <td>0.90225</td>\n",
       "      <td>0.90267</td>\n",
       "      <td>0.90259</td>\n",
       "      <td>0.90310</td>\n",
       "      <td>0.90241</td>\n",
       "      <td>0.90282</td>\n",
       "      <td>0.001161</td>\n",
       "    </tr>\n",
       "    <tr>\n",
       "      <th>3998</th>\n",
       "      <td>2022-01-25 06:00:00+00:00</td>\n",
       "      <td>1847</td>\n",
       "      <td>0.90274</td>\n",
       "      <td>0.90277</td>\n",
       "      <td>0.90208</td>\n",
       "      <td>0.90225</td>\n",
       "      <td>0.90266</td>\n",
       "      <td>0.90269</td>\n",
       "      <td>0.90201</td>\n",
       "      <td>0.90217</td>\n",
       "      <td>0.90283</td>\n",
       "      <td>0.90285</td>\n",
       "      <td>0.90216</td>\n",
       "      <td>0.90233</td>\n",
       "      <td>0.001085</td>\n",
       "    </tr>\n",
       "    <tr>\n",
       "      <th>3999</th>\n",
       "      <td>2022-01-25 07:00:00+00:00</td>\n",
       "      <td>3670</td>\n",
       "      <td>0.90228</td>\n",
       "      <td>0.90274</td>\n",
       "      <td>0.90186</td>\n",
       "      <td>0.90268</td>\n",
       "      <td>0.90220</td>\n",
       "      <td>0.90266</td>\n",
       "      <td>0.90179</td>\n",
       "      <td>0.90260</td>\n",
       "      <td>0.90237</td>\n",
       "      <td>0.90281</td>\n",
       "      <td>0.90194</td>\n",
       "      <td>0.90275</td>\n",
       "      <td>0.001085</td>\n",
       "    </tr>\n",
       "  </tbody>\n",
       "</table>\n",
       "</div>"
      ],
      "text/plain": [
       "                          time  volume    mid_o    mid_h    mid_l    mid_c  \\\n",
       "3995 2022-01-25 03:00:00+00:00    2482  0.90332  0.90340  0.90278  0.90336   \n",
       "3996 2022-01-25 04:00:00+00:00    1280  0.90337  0.90352  0.90232  0.90250   \n",
       "3997 2022-01-25 05:00:00+00:00    1831  0.90250  0.90302  0.90234  0.90274   \n",
       "3998 2022-01-25 06:00:00+00:00    1847  0.90274  0.90277  0.90208  0.90225   \n",
       "3999 2022-01-25 07:00:00+00:00    3670  0.90228  0.90274  0.90186  0.90268   \n",
       "\n",
       "        bid_o    bid_h    bid_l    bid_c    ask_o    ask_h    ask_l    ask_c  \\\n",
       "3995  0.90324  0.90332  0.90269  0.90328  0.90339  0.90348  0.90287  0.90344   \n",
       "3996  0.90328  0.90344  0.90225  0.90243  0.90346  0.90361  0.90240  0.90258   \n",
       "3997  0.90242  0.90294  0.90225  0.90267  0.90259  0.90310  0.90241  0.90282   \n",
       "3998  0.90266  0.90269  0.90201  0.90217  0.90283  0.90285  0.90216  0.90233   \n",
       "3999  0.90220  0.90266  0.90179  0.90260  0.90237  0.90281  0.90194  0.90275   \n",
       "\n",
       "        ATR_14  \n",
       "3995  0.001271  \n",
       "3996  0.001266  \n",
       "3997  0.001161  \n",
       "3998  0.001085  \n",
       "3999  0.001085  "
      ]
     },
     "execution_count": 4,
     "metadata": {},
     "output_type": "execute_result"
    }
   ],
   "source": [
    "df_an = ATR(df, n=14)\n",
    "df_an.tail()"
   ]
  },
  {
   "cell_type": "code",
   "execution_count": 5,
   "metadata": {},
   "outputs": [
    {
     "data": {
      "application/vnd.plotly.v1+json": {
       "config": {
        "plotlyServerURL": "https://plot.ly"
       },
       "data": [
        {
         "close": {
          "bdata": "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",
          "dtype": "f8"
         },
         "decreasing": {
          "fillcolor": "#CC2E3C",
          "line": {
           "color": "#FF3A4C"
          }
         },
         "high": {
          "bdata": "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",
          "dtype": "f8"
         },
         "increasing": {
          "fillcolor": "#24A06B",
          "line": {
           "color": "#2EC886"
          }
         },
         "line": {
          "width": 1
         },
         "low": {
          "bdata": "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",
          "dtype": "f8"
         },
         "opacity": 1,
         "open": {
          "bdata": "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",
          "dtype": "f8"
         },
         "type": "candlestick",
         "x": [
          "s22-01-13 00:00",
          "s22-01-13 01:00",
          "s22-01-13 02:00",
          "s22-01-13 03:00",
          "s22-01-13 04:00",
          "s22-01-13 05:00",
          "s22-01-13 06:00",
          "s22-01-13 07:00",
          "s22-01-13 08:00",
          "s22-01-13 09:00",
          "s22-01-13 10:00",
          "s22-01-13 11:00",
          "s22-01-13 12:00",
          "s22-01-13 13:00",
          "s22-01-13 14:00",
          "s22-01-13 15:00",
          "s22-01-13 16:00",
          "s22-01-13 17:00",
          "s22-01-13 18:00",
          "s22-01-13 19:00",
          "s22-01-13 20:00",
          "s22-01-13 21:00",
          "s22-01-13 22:00",
          "s22-01-13 23:00",
          "s22-01-14 00:00",
          "s22-01-14 01:00",
          "s22-01-14 02:00",
          "s22-01-14 03:00",
          "s22-01-14 04:00",
          "s22-01-14 05:00",
          "s22-01-14 06:00",
          "s22-01-14 07:00",
          "s22-01-14 08:00",
          "s22-01-14 09:00",
          "s22-01-14 10:00",
          "s22-01-14 11:00",
          "s22-01-14 12:00",
          "s22-01-14 13:00",
          "s22-01-14 14:00",
          "s22-01-14 15:00",
          "s22-01-14 16:00",
          "s22-01-14 17:00",
          "s22-01-14 18:00",
          "s22-01-14 19:00",
          "s22-01-14 20:00",
          "s22-01-14 21:00",
          "s22-01-16 22:00",
          "s22-01-16 23:00",
          "s22-01-17 00:00",
          "s22-01-17 01:00",
          "s22-01-17 02:00",
          "s22-01-17 03:00",
          "s22-01-17 04:00",
          "s22-01-17 05:00",
          "s22-01-17 06:00",
          "s22-01-17 07:00",
          "s22-01-17 08:00",
          "s22-01-17 09:00",
          "s22-01-17 10:00",
          "s22-01-17 11:00",
          "s22-01-17 12:00",
          "s22-01-17 13:00",
          "s22-01-17 14:00",
          "s22-01-17 15:00",
          "s22-01-17 16:00",
          "s22-01-17 17:00",
          "s22-01-17 18:00",
          "s22-01-17 19:00",
          "s22-01-17 20:00",
          "s22-01-17 21:00",
          "s22-01-17 22:00",
          "s22-01-17 23:00",
          "s22-01-18 00:00",
          "s22-01-18 01:00",
          "s22-01-18 02:00",
          "s22-01-18 03:00",
          "s22-01-18 04:00",
          "s22-01-18 05:00",
          "s22-01-18 06:00",
          "s22-01-18 07:00",
          "s22-01-18 08:00",
          "s22-01-18 09:00",
          "s22-01-18 10:00",
          "s22-01-18 11:00",
          "s22-01-18 12:00",
          "s22-01-18 13:00",
          "s22-01-18 14:00",
          "s22-01-18 15:00",
          "s22-01-18 16:00",
          "s22-01-18 17:00",
          "s22-01-18 18:00",
          "s22-01-18 19:00",
          "s22-01-18 20:00",
          "s22-01-18 21:00",
          "s22-01-18 22:00",
          "s22-01-18 23:00",
          "s22-01-19 00:00",
          "s22-01-19 01:00",
          "s22-01-19 02:00",
          "s22-01-19 03:00",
          "s22-01-19 04:00",
          "s22-01-19 05:00",
          "s22-01-19 06:00",
          "s22-01-19 07:00",
          "s22-01-19 08:00",
          "s22-01-19 09:00",
          "s22-01-19 10:00",
          "s22-01-19 11:00",
          "s22-01-19 12:00",
          "s22-01-19 13:00",
          "s22-01-19 14:00",
          "s22-01-19 15:00",
          "s22-01-19 16:00",
          "s22-01-19 17:00",
          "s22-01-19 18:00",
          "s22-01-19 19:00",
          "s22-01-19 20:00",
          "s22-01-19 21:00",
          "s22-01-19 22:00",
          "s22-01-19 23:00",
          "s22-01-20 00:00",
          "s22-01-20 01:00",
          "s22-01-20 02:00",
          "s22-01-20 03:00",
          "s22-01-20 04:00",
          "s22-01-20 05:00",
          "s22-01-20 06:00",
          "s22-01-20 07:00",
          "s22-01-20 08:00",
          "s22-01-20 09:00",
          "s22-01-20 10:00",
          "s22-01-20 11:00",
          "s22-01-20 12:00",
          "s22-01-20 13:00",
          "s22-01-20 14:00",
          "s22-01-20 15:00",
          "s22-01-20 16:00",
          "s22-01-20 17:00",
          "s22-01-20 18:00",
          "s22-01-20 19:00",
          "s22-01-20 20:00",
          "s22-01-20 21:00",
          "s22-01-20 22:00",
          "s22-01-20 23:00",
          "s22-01-21 00:00",
          "s22-01-21 01:00",
          "s22-01-21 02:00",
          "s22-01-21 03:00",
          "s22-01-21 04:00",
          "s22-01-21 05:00",
          "s22-01-21 06:00",
          "s22-01-21 07:00",
          "s22-01-21 08:00",
          "s22-01-21 09:00",
          "s22-01-21 10:00",
          "s22-01-21 11:00",
          "s22-01-21 12:00",
          "s22-01-21 13:00",
          "s22-01-21 14:00",
          "s22-01-21 15:00",
          "s22-01-21 16:00",
          "s22-01-21 17:00",
          "s22-01-21 18:00",
          "s22-01-21 19:00",
          "s22-01-21 20:00",
          "s22-01-21 21:00",
          "s22-01-23 22:00",
          "s22-01-23 23:00",
          "s22-01-24 00:00",
          "s22-01-24 01:00",
          "s22-01-24 02:00",
          "s22-01-24 03:00",
          "s22-01-24 04:00",
          "s22-01-24 05:00",
          "s22-01-24 06:00",
          "s22-01-24 07:00",
          "s22-01-24 08:00",
          "s22-01-24 09:00",
          "s22-01-24 10:00",
          "s22-01-24 11:00",
          "s22-01-24 12:00",
          "s22-01-24 13:00",
          "s22-01-24 14:00",
          "s22-01-24 15:00",
          "s22-01-24 16:00",
          "s22-01-24 17:00",
          "s22-01-24 18:00",
          "s22-01-24 19:00",
          "s22-01-24 20:00",
          "s22-01-24 21:00",
          "s22-01-24 22:00",
          "s22-01-24 23:00",
          "s22-01-25 00:00",
          "s22-01-25 01:00",
          "s22-01-25 02:00",
          "s22-01-25 03:00",
          "s22-01-25 04:00",
          "s22-01-25 05:00",
          "s22-01-25 06:00",
          "s22-01-25 07:00"
         ]
        },
        {
         "line": {
          "shape": "spline",
          "width": 2
         },
         "name": "ATR_14",
         "type": "scatter",
         "x": [
          "s22-01-13 00:00",
          "s22-01-13 01:00",
          "s22-01-13 02:00",
          "s22-01-13 03:00",
          "s22-01-13 04:00",
          "s22-01-13 05:00",
          "s22-01-13 06:00",
          "s22-01-13 07:00",
          "s22-01-13 08:00",
          "s22-01-13 09:00",
          "s22-01-13 10:00",
          "s22-01-13 11:00",
          "s22-01-13 12:00",
          "s22-01-13 13:00",
          "s22-01-13 14:00",
          "s22-01-13 15:00",
          "s22-01-13 16:00",
          "s22-01-13 17:00",
          "s22-01-13 18:00",
          "s22-01-13 19:00",
          "s22-01-13 20:00",
          "s22-01-13 21:00",
          "s22-01-13 22:00",
          "s22-01-13 23:00",
          "s22-01-14 00:00",
          "s22-01-14 01:00",
          "s22-01-14 02:00",
          "s22-01-14 03:00",
          "s22-01-14 04:00",
          "s22-01-14 05:00",
          "s22-01-14 06:00",
          "s22-01-14 07:00",
          "s22-01-14 08:00",
          "s22-01-14 09:00",
          "s22-01-14 10:00",
          "s22-01-14 11:00",
          "s22-01-14 12:00",
          "s22-01-14 13:00",
          "s22-01-14 14:00",
          "s22-01-14 15:00",
          "s22-01-14 16:00",
          "s22-01-14 17:00",
          "s22-01-14 18:00",
          "s22-01-14 19:00",
          "s22-01-14 20:00",
          "s22-01-14 21:00",
          "s22-01-16 22:00",
          "s22-01-16 23:00",
          "s22-01-17 00:00",
          "s22-01-17 01:00",
          "s22-01-17 02:00",
          "s22-01-17 03:00",
          "s22-01-17 04:00",
          "s22-01-17 05:00",
          "s22-01-17 06:00",
          "s22-01-17 07:00",
          "s22-01-17 08:00",
          "s22-01-17 09:00",
          "s22-01-17 10:00",
          "s22-01-17 11:00",
          "s22-01-17 12:00",
          "s22-01-17 13:00",
          "s22-01-17 14:00",
          "s22-01-17 15:00",
          "s22-01-17 16:00",
          "s22-01-17 17:00",
          "s22-01-17 18:00",
          "s22-01-17 19:00",
          "s22-01-17 20:00",
          "s22-01-17 21:00",
          "s22-01-17 22:00",
          "s22-01-17 23:00",
          "s22-01-18 00:00",
          "s22-01-18 01:00",
          "s22-01-18 02:00",
          "s22-01-18 03:00",
          "s22-01-18 04:00",
          "s22-01-18 05:00",
          "s22-01-18 06:00",
          "s22-01-18 07:00",
          "s22-01-18 08:00",
          "s22-01-18 09:00",
          "s22-01-18 10:00",
          "s22-01-18 11:00",
          "s22-01-18 12:00",
          "s22-01-18 13:00",
          "s22-01-18 14:00",
          "s22-01-18 15:00",
          "s22-01-18 16:00",
          "s22-01-18 17:00",
          "s22-01-18 18:00",
          "s22-01-18 19:00",
          "s22-01-18 20:00",
          "s22-01-18 21:00",
          "s22-01-18 22:00",
          "s22-01-18 23:00",
          "s22-01-19 00:00",
          "s22-01-19 01:00",
          "s22-01-19 02:00",
          "s22-01-19 03:00",
          "s22-01-19 04:00",
          "s22-01-19 05:00",
          "s22-01-19 06:00",
          "s22-01-19 07:00",
          "s22-01-19 08:00",
          "s22-01-19 09:00",
          "s22-01-19 10:00",
          "s22-01-19 11:00",
          "s22-01-19 12:00",
          "s22-01-19 13:00",
          "s22-01-19 14:00",
          "s22-01-19 15:00",
          "s22-01-19 16:00",
          "s22-01-19 17:00",
          "s22-01-19 18:00",
          "s22-01-19 19:00",
          "s22-01-19 20:00",
          "s22-01-19 21:00",
          "s22-01-19 22:00",
          "s22-01-19 23:00",
          "s22-01-20 00:00",
          "s22-01-20 01:00",
          "s22-01-20 02:00",
          "s22-01-20 03:00",
          "s22-01-20 04:00",
          "s22-01-20 05:00",
          "s22-01-20 06:00",
          "s22-01-20 07:00",
          "s22-01-20 08:00",
          "s22-01-20 09:00",
          "s22-01-20 10:00",
          "s22-01-20 11:00",
          "s22-01-20 12:00",
          "s22-01-20 13:00",
          "s22-01-20 14:00",
          "s22-01-20 15:00",
          "s22-01-20 16:00",
          "s22-01-20 17:00",
          "s22-01-20 18:00",
          "s22-01-20 19:00",
          "s22-01-20 20:00",
          "s22-01-20 21:00",
          "s22-01-20 22:00",
          "s22-01-20 23:00",
          "s22-01-21 00:00",
          "s22-01-21 01:00",
          "s22-01-21 02:00",
          "s22-01-21 03:00",
          "s22-01-21 04:00",
          "s22-01-21 05:00",
          "s22-01-21 06:00",
          "s22-01-21 07:00",
          "s22-01-21 08:00",
          "s22-01-21 09:00",
          "s22-01-21 10:00",
          "s22-01-21 11:00",
          "s22-01-21 12:00",
          "s22-01-21 13:00",
          "s22-01-21 14:00",
          "s22-01-21 15:00",
          "s22-01-21 16:00",
          "s22-01-21 17:00",
          "s22-01-21 18:00",
          "s22-01-21 19:00",
          "s22-01-21 20:00",
          "s22-01-21 21:00",
          "s22-01-23 22:00",
          "s22-01-23 23:00",
          "s22-01-24 00:00",
          "s22-01-24 01:00",
          "s22-01-24 02:00",
          "s22-01-24 03:00",
          "s22-01-24 04:00",
          "s22-01-24 05:00",
          "s22-01-24 06:00",
          "s22-01-24 07:00",
          "s22-01-24 08:00",
          "s22-01-24 09:00",
          "s22-01-24 10:00",
          "s22-01-24 11:00",
          "s22-01-24 12:00",
          "s22-01-24 13:00",
          "s22-01-24 14:00",
          "s22-01-24 15:00",
          "s22-01-24 16:00",
          "s22-01-24 17:00",
          "s22-01-24 18:00",
          "s22-01-24 19:00",
          "s22-01-24 20:00",
          "s22-01-24 21:00",
          "s22-01-24 22:00",
          "s22-01-24 23:00",
          "s22-01-25 00:00",
          "s22-01-25 01:00",
          "s22-01-25 02:00",
          "s22-01-25 03:00",
          "s22-01-25 04:00",
          "s22-01-25 05:00",
          "s22-01-25 06:00",
          "s22-01-25 07:00"
         ],
         "xaxis": "x",
         "y": {
          "bdata": "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",
          "dtype": "f8"
         },
         "yaxis": "y2"
        }
       ],
       "layout": {
        "font": {
         "color": "#e1e1e1",
         "size": 8
        },
        "height": 400,
        "margin": {
         "b": 10,
         "l": 10,
         "r": 10,
         "t": 10
        },
        "paper_bgcolor": "#2c303c",
        "plot_bgcolor": "#2c303c",
        "template": {
         "data": {
          "bar": [
           {
            "error_x": {
             "color": "#2a3f5f"
            },
            "error_y": {
             "color": "#2a3f5f"
            },
            "marker": {
             "line": {
              "color": "#E5ECF6",
              "width": 0.5
             },
             "pattern": {
              "fillmode": "overlay",
              "size": 10,
              "solidity": 0.2
             }
            },
            "type": "bar"
           }
          ],
          "barpolar": [
           {
            "marker": {
             "line": {
              "color": "#E5ECF6",
              "width": 0.5
             },
             "pattern": {
              "fillmode": "overlay",
              "size": 10,
              "solidity": 0.2
             }
            },
            "type": "barpolar"
           }
          ],
          "carpet": [
           {
            "aaxis": {
             "endlinecolor": "#2a3f5f",
             "gridcolor": "white",
             "linecolor": "white",
             "minorgridcolor": "white",
             "startlinecolor": "#2a3f5f"
            },
            "baxis": {
             "endlinecolor": "#2a3f5f",
             "gridcolor": "white",
             "linecolor": "white",
             "minorgridcolor": "white",
             "startlinecolor": "#2a3f5f"
            },
            "type": "carpet"
           }
          ],
          "choropleth": [
           {
            "colorbar": {
             "outlinewidth": 0,
             "ticks": ""
            },
            "type": "choropleth"
           }
          ],
          "contour": [
           {
            "colorbar": {
             "outlinewidth": 0,
             "ticks": ""
            },
            "colorscale": [
             [
              0,
              "#0d0887"
             ],
             [
              0.1111111111111111,
              "#46039f"
             ],
             [
              0.2222222222222222,
              "#7201a8"
             ],
             [
              0.3333333333333333,
              "#9c179e"
             ],
             [
              0.4444444444444444,
              "#bd3786"
             ],
             [
              0.5555555555555556,
              "#d8576b"
             ],
             [
              0.6666666666666666,
              "#ed7953"
             ],
             [
              0.7777777777777778,
              "#fb9f3a"
             ],
             [
              0.8888888888888888,
              "#fdca26"
             ],
             [
              1,
              "#f0f921"
             ]
            ],
            "type": "contour"
           }
          ],
          "contourcarpet": [
           {
            "colorbar": {
             "outlinewidth": 0,
             "ticks": ""
            },
            "type": "contourcarpet"
           }
          ],
          "heatmap": [
           {
            "colorbar": {
             "outlinewidth": 0,
             "ticks": ""
            },
            "colorscale": [
             [
              0,
              "#0d0887"
             ],
             [
              0.1111111111111111,
              "#46039f"
             ],
             [
              0.2222222222222222,
              "#7201a8"
             ],
             [
              0.3333333333333333,
              "#9c179e"
             ],
             [
              0.4444444444444444,
              "#bd3786"
             ],
             [
              0.5555555555555556,
              "#d8576b"
             ],
             [
              0.6666666666666666,
              "#ed7953"
             ],
             [
              0.7777777777777778,
              "#fb9f3a"
             ],
             [
              0.8888888888888888,
              "#fdca26"
             ],
             [
              1,
              "#f0f921"
             ]
            ],
            "type": "heatmap"
           }
          ],
          "histogram": [
           {
            "marker": {
             "pattern": {
              "fillmode": "overlay",
              "size": 10,
              "solidity": 0.2
             }
            },
            "type": "histogram"
           }
          ],
          "histogram2d": [
           {
            "colorbar": {
             "outlinewidth": 0,
             "ticks": ""
            },
            "colorscale": [
             [
              0,
              "#0d0887"
             ],
             [
              0.1111111111111111,
              "#46039f"
             ],
             [
              0.2222222222222222,
              "#7201a8"
             ],
             [
              0.3333333333333333,
              "#9c179e"
             ],
             [
              0.4444444444444444,
              "#bd3786"
             ],
             [
              0.5555555555555556,
              "#d8576b"
             ],
             [
              0.6666666666666666,
              "#ed7953"
             ],
             [
              0.7777777777777778,
              "#fb9f3a"
             ],
             [
              0.8888888888888888,
              "#fdca26"
             ],
             [
              1,
              "#f0f921"
             ]
            ],
            "type": "histogram2d"
           }
          ],
          "histogram2dcontour": [
           {
            "colorbar": {
             "outlinewidth": 0,
             "ticks": ""
            },
            "colorscale": [
             [
              0,
              "#0d0887"
             ],
             [
              0.1111111111111111,
              "#46039f"
             ],
             [
              0.2222222222222222,
              "#7201a8"
             ],
             [
              0.3333333333333333,
              "#9c179e"
             ],
             [
              0.4444444444444444,
              "#bd3786"
             ],
             [
              0.5555555555555556,
              "#d8576b"
             ],
             [
              0.6666666666666666,
              "#ed7953"
             ],
             [
              0.7777777777777778,
              "#fb9f3a"
             ],
             [
              0.8888888888888888,
              "#fdca26"
             ],
             [
              1,
              "#f0f921"
             ]
            ],
            "type": "histogram2dcontour"
           }
          ],
          "mesh3d": [
           {
            "colorbar": {
             "outlinewidth": 0,
             "ticks": ""
            },
            "type": "mesh3d"
           }
          ],
          "parcoords": [
           {
            "line": {
             "colorbar": {
              "outlinewidth": 0,
              "ticks": ""
             }
            },
            "type": "parcoords"
           }
          ],
          "pie": [
           {
            "automargin": true,
            "type": "pie"
           }
          ],
          "scatter": [
           {
            "fillpattern": {
             "fillmode": "overlay",
             "size": 10,
             "solidity": 0.2
            },
            "type": "scatter"
           }
          ],
          "scatter3d": [
           {
            "line": {
             "colorbar": {
              "outlinewidth": 0,
              "ticks": ""
             }
            },
            "marker": {
             "colorbar": {
              "outlinewidth": 0,
              "ticks": ""
             }
            },
            "type": "scatter3d"
           }
          ],
          "scattercarpet": [
           {
            "marker": {
             "colorbar": {
              "outlinewidth": 0,
              "ticks": ""
             }
            },
            "type": "scattercarpet"
           }
          ],
          "scattergeo": [
           {
            "marker": {
             "colorbar": {
              "outlinewidth": 0,
              "ticks": ""
             }
            },
            "type": "scattergeo"
           }
          ],
          "scattergl": [
           {
            "marker": {
             "colorbar": {
              "outlinewidth": 0,
              "ticks": ""
             }
            },
            "type": "scattergl"
           }
          ],
          "scattermap": [
           {
            "marker": {
             "colorbar": {
              "outlinewidth": 0,
              "ticks": ""
             }
            },
            "type": "scattermap"
           }
          ],
          "scattermapbox": [
           {
            "marker": {
             "colorbar": {
              "outlinewidth": 0,
              "ticks": ""
             }
            },
            "type": "scattermapbox"
           }
          ],
          "scatterpolar": [
           {
            "marker": {
             "colorbar": {
              "outlinewidth": 0,
              "ticks": ""
             }
            },
            "type": "scatterpolar"
           }
          ],
          "scatterpolargl": [
           {
            "marker": {
             "colorbar": {
              "outlinewidth": 0,
              "ticks": ""
             }
            },
            "type": "scatterpolargl"
           }
          ],
          "scatterternary": [
           {
            "marker": {
             "colorbar": {
              "outlinewidth": 0,
              "ticks": ""
             }
            },
            "type": "scatterternary"
           }
          ],
          "surface": [
           {
            "colorbar": {
             "outlinewidth": 0,
             "ticks": ""
            },
            "colorscale": [
             [
              0,
              "#0d0887"
             ],
             [
              0.1111111111111111,
              "#46039f"
             ],
             [
              0.2222222222222222,
              "#7201a8"
             ],
             [
              0.3333333333333333,
              "#9c179e"
             ],
             [
              0.4444444444444444,
              "#bd3786"
             ],
             [
              0.5555555555555556,
              "#d8576b"
             ],
             [
              0.6666666666666666,
              "#ed7953"
             ],
             [
              0.7777777777777778,
              "#fb9f3a"
             ],
             [
              0.8888888888888888,
              "#fdca26"
             ],
             [
              1,
              "#f0f921"
             ]
            ],
            "type": "surface"
           }
          ],
          "table": [
           {
            "cells": {
             "fill": {
              "color": "#EBF0F8"
             },
             "line": {
              "color": "white"
             }
            },
            "header": {
             "fill": {
              "color": "#C8D4E3"
             },
             "line": {
              "color": "white"
             }
            },
            "type": "table"
           }
          ]
         },
         "layout": {
          "annotationdefaults": {
           "arrowcolor": "#2a3f5f",
           "arrowhead": 0,
           "arrowwidth": 1
          },
          "autotypenumbers": "strict",
          "coloraxis": {
           "colorbar": {
            "outlinewidth": 0,
            "ticks": ""
           }
          },
          "colorscale": {
           "diverging": [
            [
             0,
             "#8e0152"
            ],
            [
             0.1,
             "#c51b7d"
            ],
            [
             0.2,
             "#de77ae"
            ],
            [
             0.3,
             "#f1b6da"
            ],
            [
             0.4,
             "#fde0ef"
            ],
            [
             0.5,
             "#f7f7f7"
            ],
            [
             0.6,
             "#e6f5d0"
            ],
            [
             0.7,
             "#b8e186"
            ],
            [
             0.8,
             "#7fbc41"
            ],
            [
             0.9,
             "#4d9221"
            ],
            [
             1,
             "#276419"
            ]
           ],
           "sequential": [
            [
             0,
             "#0d0887"
            ],
            [
             0.1111111111111111,
             "#46039f"
            ],
            [
             0.2222222222222222,
             "#7201a8"
            ],
            [
             0.3333333333333333,
             "#9c179e"
            ],
            [
             0.4444444444444444,
             "#bd3786"
            ],
            [
             0.5555555555555556,
             "#d8576b"
            ],
            [
             0.6666666666666666,
             "#ed7953"
            ],
            [
             0.7777777777777778,
             "#fb9f3a"
            ],
            [
             0.8888888888888888,
             "#fdca26"
            ],
            [
             1,
             "#f0f921"
            ]
           ],
           "sequentialminus": [
            [
             0,
             "#0d0887"
            ],
            [
             0.1111111111111111,
             "#46039f"
            ],
            [
             0.2222222222222222,
             "#7201a8"
            ],
            [
             0.3333333333333333,
             "#9c179e"
            ],
            [
             0.4444444444444444,
             "#bd3786"
            ],
            [
             0.5555555555555556,
             "#d8576b"
            ],
            [
             0.6666666666666666,
             "#ed7953"
            ],
            [
             0.7777777777777778,
             "#fb9f3a"
            ],
            [
             0.8888888888888888,
             "#fdca26"
            ],
            [
             1,
             "#f0f921"
            ]
           ]
          },
          "colorway": [
           "#636efa",
           "#EF553B",
           "#00cc96",
           "#ab63fa",
           "#FFA15A",
           "#19d3f3",
           "#FF6692",
           "#B6E880",
           "#FF97FF",
           "#FECB52"
          ],
          "font": {
           "color": "#2a3f5f"
          },
          "geo": {
           "bgcolor": "white",
           "lakecolor": "white",
           "landcolor": "#E5ECF6",
           "showlakes": true,
           "showland": true,
           "subunitcolor": "white"
          },
          "hoverlabel": {
           "align": "left"
          },
          "hovermode": "closest",
          "mapbox": {
           "style": "light"
          },
          "paper_bgcolor": "white",
          "plot_bgcolor": "#E5ECF6",
          "polar": {
           "angularaxis": {
            "gridcolor": "white",
            "linecolor": "white",
            "ticks": ""
           },
           "bgcolor": "#E5ECF6",
           "radialaxis": {
            "gridcolor": "white",
            "linecolor": "white",
            "ticks": ""
           }
          },
          "scene": {
           "xaxis": {
            "backgroundcolor": "#E5ECF6",
            "gridcolor": "white",
            "gridwidth": 2,
            "linecolor": "white",
            "showbackground": true,
            "ticks": "",
            "zerolinecolor": "white"
           },
           "yaxis": {
            "backgroundcolor": "#E5ECF6",
            "gridcolor": "white",
            "gridwidth": 2,
            "linecolor": "white",
            "showbackground": true,
            "ticks": "",
            "zerolinecolor": "white"
           },
           "zaxis": {
            "backgroundcolor": "#E5ECF6",
            "gridcolor": "white",
            "gridwidth": 2,
            "linecolor": "white",
            "showbackground": true,
            "ticks": "",
            "zerolinecolor": "white"
           }
          },
          "shapedefaults": {
           "line": {
            "color": "#2a3f5f"
           }
          },
          "ternary": {
           "aaxis": {
            "gridcolor": "white",
            "linecolor": "white",
            "ticks": ""
           },
           "baxis": {
            "gridcolor": "white",
            "linecolor": "white",
            "ticks": ""
           },
           "bgcolor": "#E5ECF6",
           "caxis": {
            "gridcolor": "white",
            "linecolor": "white",
            "ticks": ""
           }
          },
          "title": {
           "x": 0.05
          },
          "xaxis": {
           "automargin": true,
           "gridcolor": "white",
           "linecolor": "white",
           "ticks": "",
           "title": {
            "standoff": 15
           },
           "zerolinecolor": "white",
           "zerolinewidth": 2
          },
          "yaxis": {
           "automargin": true,
           "gridcolor": "white",
           "linecolor": "white",
           "ticks": "",
           "title": {
            "standoff": 15
           },
           "zerolinecolor": "white",
           "zerolinewidth": 2
          }
         }
        },
        "width": 900,
        "xaxis": {
         "anchor": "y",
         "domain": [
          0,
          0.94
         ],
         "gridcolor": "#1f292f",
         "nticks": 5,
         "rangeslider": {
          "visible": false
         }
        },
        "yaxis": {
         "anchor": "x",
         "domain": [
          0,
          1
         ],
         "gridcolor": "#1f292f"
        },
        "yaxis2": {
         "anchor": "x",
         "gridcolor": "#1f292f",
         "overlaying": "y",
         "side": "right"
        }
       }
      }
     },
     "metadata": {},
     "output_type": "display_data"
    }
   ],
   "source": [
    "df_plot = df_an.iloc[-200:]\n",
    "\n",
    "cp = CandlePlot(df_plot, candles = True)\n",
    "cp.show_plot(sec_traces=['ATR_14'])"
   ]
  },
  {
   "cell_type": "code",
   "execution_count": null,
   "metadata": {},
   "outputs": [],
   "source": []
  }
 ],
 "metadata": {
  "kernelspec": {
   "display_name": "venv",
   "language": "python",
   "name": "python3"
  },
  "language_info": {
   "codemirror_mode": {
    "name": "ipython",
    "version": 3
   },
   "file_extension": ".py",
   "mimetype": "text/x-python",
   "name": "python",
   "nbconvert_exporter": "python",
   "pygments_lexer": "ipython3",
   "version": "3.13.1"
  }
 },
 "nbformat": 4,
 "nbformat_minor": 2
}
